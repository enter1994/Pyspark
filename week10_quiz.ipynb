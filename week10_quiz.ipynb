{
 "cells": [
  {
   "cell_type": "code",
   "execution_count": null,
   "metadata": {},
   "outputs": [
    {
     "name": "stdout",
     "output_type": "stream",
     "text": [
      "22/11/03 17:04:36 WARN Utils: Your hostname, bagdoyeong-ui-MacBookAir.local resolves to a loopback address: 127.0.0.1; using 192.168.1.30 instead (on interface en0)\n",
      "22/11/03 17:04:36 WARN Utils: Set SPARK_LOCAL_IP if you need to bind to another address\n"
     ]
    },
    {
     "name": "stderr",
     "output_type": "stream",
     "text": [
      "Setting default log level to \"WARN\".\n",
      "To adjust logging level use sc.setLogLevel(newLevel). For SparkR, use setLogLevel(newLevel).\n"
     ]
    },
    {
     "name": "stdout",
     "output_type": "stream",
     "text": [
      "22/11/03 17:04:37 WARN NativeCodeLoader: Unable to load native-hadoop library for your platform... using builtin-java classes where applicable\n",
      "22/11/03 17:04:39 WARN Utils: Service 'SparkUI' could not bind on port 4040. Attempting port 4041.\n"
     ]
    }
   ],
   "source": [
    "from pyspark.sql import SparkSession\n",
    "from pyspark.sql.types import *\n",
    "from pyspark.sql.types import ArrayType, StringType\n",
    "\n",
    "spark = SparkSession.builder.appName('my app').master('local').getOrCreate()\n",
    "sc = spark.sparkContext"
   ]
  },
  {
   "cell_type": "code",
   "execution_count": 45,
   "metadata": {},
   "outputs": [],
   "source": [
    "from pyspark.ml.feature import PCA\n",
    "from pyspark.ml.clustering import KMeans, GaussianMixture\n",
    "from pyspark.ml.stat import Correlation\n",
    "from pyspark.ml.feature import StringIndexer, OneHotEncoder\n",
    "from pyspark.ml.feature import VectorAssembler\n",
    "\n",
    "import matplotlib.pyplot as plt\n",
    "import numpy as np\n",
    "import random"
   ]
  },
  {
   "cell_type": "code",
   "execution_count": 9,
   "metadata": {},
   "outputs": [
    {
     "data": {
      "text/plain": [
       "['EXT1', 'country']"
      ]
     },
     "execution_count": 9,
     "metadata": {},
     "output_type": "execute_result"
    }
   ],
   "source": [
    "data.columns"
   ]
  },
  {
   "cell_type": "code",
   "execution_count": 10,
   "metadata": {},
   "outputs": [],
   "source": [
    "data = spark.read.format('csv').option('delimiter', '\\t').option('header', 'true').load('./input_week10/IPIP-FFM-data-8Nov2018/data-final.csv')\n",
    "data_col = data.columns"
   ]
  },
  {
   "cell_type": "code",
   "execution_count": 13,
   "metadata": {
    "collapsed": true,
    "jupyter": {
     "outputs_hidden": true
    },
    "tags": []
   },
   "outputs": [
    {
     "data": {
      "text/plain": [
       "['EXT1',\n",
       " 'EXT2',\n",
       " 'EXT3',\n",
       " 'EXT4',\n",
       " 'EXT5',\n",
       " 'EXT6',\n",
       " 'EXT7',\n",
       " 'EXT8',\n",
       " 'EXT9',\n",
       " 'EXT10',\n",
       " 'EST1',\n",
       " 'EST2',\n",
       " 'EST3',\n",
       " 'EST4',\n",
       " 'EST5',\n",
       " 'EST6',\n",
       " 'EST7',\n",
       " 'EST8',\n",
       " 'EST9',\n",
       " 'EST10',\n",
       " 'AGR1',\n",
       " 'AGR2',\n",
       " 'AGR3',\n",
       " 'AGR4',\n",
       " 'AGR5',\n",
       " 'AGR6',\n",
       " 'AGR7',\n",
       " 'AGR8',\n",
       " 'AGR9',\n",
       " 'AGR10',\n",
       " 'CSN1',\n",
       " 'CSN2',\n",
       " 'CSN3',\n",
       " 'CSN4',\n",
       " 'CSN5',\n",
       " 'CSN6',\n",
       " 'CSN7',\n",
       " 'CSN8',\n",
       " 'CSN9',\n",
       " 'CSN10',\n",
       " 'OPN1',\n",
       " 'OPN2',\n",
       " 'OPN3',\n",
       " 'OPN4',\n",
       " 'OPN5',\n",
       " 'OPN6',\n",
       " 'OPN7',\n",
       " 'OPN8',\n",
       " 'OPN9',\n",
       " 'OPN10',\n",
       " 'EXT1_E',\n",
       " 'EXT2_E',\n",
       " 'EXT3_E',\n",
       " 'EXT4_E',\n",
       " 'EXT5_E',\n",
       " 'EXT6_E',\n",
       " 'EXT7_E',\n",
       " 'EXT8_E',\n",
       " 'EXT9_E',\n",
       " 'EXT10_E',\n",
       " 'EST1_E',\n",
       " 'EST2_E',\n",
       " 'EST3_E',\n",
       " 'EST4_E',\n",
       " 'EST5_E',\n",
       " 'EST6_E',\n",
       " 'EST7_E',\n",
       " 'EST8_E',\n",
       " 'EST9_E',\n",
       " 'EST10_E',\n",
       " 'AGR1_E',\n",
       " 'AGR2_E',\n",
       " 'AGR3_E',\n",
       " 'AGR4_E',\n",
       " 'AGR5_E',\n",
       " 'AGR6_E',\n",
       " 'AGR7_E',\n",
       " 'AGR8_E',\n",
       " 'AGR9_E',\n",
       " 'AGR10_E',\n",
       " 'CSN1_E',\n",
       " 'CSN2_E',\n",
       " 'CSN3_E',\n",
       " 'CSN4_E',\n",
       " 'CSN5_E',\n",
       " 'CSN6_E',\n",
       " 'CSN7_E',\n",
       " 'CSN8_E',\n",
       " 'CSN9_E',\n",
       " 'CSN10_E',\n",
       " 'OPN1_E',\n",
       " 'OPN2_E',\n",
       " 'OPN3_E',\n",
       " 'OPN4_E',\n",
       " 'OPN5_E',\n",
       " 'OPN6_E',\n",
       " 'OPN7_E',\n",
       " 'OPN8_E',\n",
       " 'OPN9_E',\n",
       " 'OPN10_E',\n",
       " 'dateload',\n",
       " 'screenw',\n",
       " 'screenh',\n",
       " 'introelapse',\n",
       " 'testelapse',\n",
       " 'endelapse',\n",
       " 'IPC',\n",
       " 'country',\n",
       " 'lat_appx_lots_of_err',\n",
       " 'long_appx_lots_of_err']"
      ]
     },
     "execution_count": 13,
     "metadata": {},
     "output_type": "execute_result"
    }
   ],
   "source": [
    "data_col"
   ]
  },
  {
   "cell_type": "code",
   "execution_count": 17,
   "metadata": {},
   "outputs": [],
   "source": [
    "data_col = data_col[:50]\n",
    "\n",
    "for c in data_col:\n",
    "    data = data.withColumn(c, data[c].cast(FloatType()))"
   ]
  },
  {
   "cell_type": "code",
   "execution_count": 18,
   "metadata": {},
   "outputs": [
    {
     "name": "stdout",
     "output_type": "stream",
     "text": [
      "root\n",
      " |-- EXT1: float (nullable = true)\n",
      " |-- EXT2: float (nullable = true)\n",
      " |-- EXT3: float (nullable = true)\n",
      " |-- EXT4: float (nullable = true)\n",
      " |-- EXT5: float (nullable = true)\n",
      " |-- EXT6: float (nullable = true)\n",
      " |-- EXT7: float (nullable = true)\n",
      " |-- EXT8: float (nullable = true)\n",
      " |-- EXT9: float (nullable = true)\n",
      " |-- EXT10: float (nullable = true)\n",
      " |-- EST1: float (nullable = true)\n",
      " |-- EST2: float (nullable = true)\n",
      " |-- EST3: float (nullable = true)\n",
      " |-- EST4: float (nullable = true)\n",
      " |-- EST5: float (nullable = true)\n",
      " |-- EST6: float (nullable = true)\n",
      " |-- EST7: float (nullable = true)\n",
      " |-- EST8: float (nullable = true)\n",
      " |-- EST9: float (nullable = true)\n",
      " |-- EST10: float (nullable = true)\n",
      " |-- AGR1: float (nullable = true)\n",
      " |-- AGR2: float (nullable = true)\n",
      " |-- AGR3: float (nullable = true)\n",
      " |-- AGR4: float (nullable = true)\n",
      " |-- AGR5: float (nullable = true)\n",
      " |-- AGR6: float (nullable = true)\n",
      " |-- AGR7: float (nullable = true)\n",
      " |-- AGR8: float (nullable = true)\n",
      " |-- AGR9: float (nullable = true)\n",
      " |-- AGR10: float (nullable = true)\n",
      " |-- CSN1: float (nullable = true)\n",
      " |-- CSN2: float (nullable = true)\n",
      " |-- CSN3: float (nullable = true)\n",
      " |-- CSN4: float (nullable = true)\n",
      " |-- CSN5: float (nullable = true)\n",
      " |-- CSN6: float (nullable = true)\n",
      " |-- CSN7: float (nullable = true)\n",
      " |-- CSN8: float (nullable = true)\n",
      " |-- CSN9: float (nullable = true)\n",
      " |-- CSN10: float (nullable = true)\n",
      " |-- OPN1: float (nullable = true)\n",
      " |-- OPN2: float (nullable = true)\n",
      " |-- OPN3: float (nullable = true)\n",
      " |-- OPN4: float (nullable = true)\n",
      " |-- OPN5: float (nullable = true)\n",
      " |-- OPN6: float (nullable = true)\n",
      " |-- OPN7: float (nullable = true)\n",
      " |-- OPN8: float (nullable = true)\n",
      " |-- OPN9: float (nullable = true)\n",
      " |-- OPN10: float (nullable = true)\n",
      " |-- EXT1_E: string (nullable = true)\n",
      " |-- EXT2_E: string (nullable = true)\n",
      " |-- EXT3_E: string (nullable = true)\n",
      " |-- EXT4_E: string (nullable = true)\n",
      " |-- EXT5_E: string (nullable = true)\n",
      " |-- EXT6_E: string (nullable = true)\n",
      " |-- EXT7_E: string (nullable = true)\n",
      " |-- EXT8_E: string (nullable = true)\n",
      " |-- EXT9_E: string (nullable = true)\n",
      " |-- EXT10_E: string (nullable = true)\n",
      " |-- EST1_E: string (nullable = true)\n",
      " |-- EST2_E: string (nullable = true)\n",
      " |-- EST3_E: string (nullable = true)\n",
      " |-- EST4_E: string (nullable = true)\n",
      " |-- EST5_E: string (nullable = true)\n",
      " |-- EST6_E: string (nullable = true)\n",
      " |-- EST7_E: string (nullable = true)\n",
      " |-- EST8_E: string (nullable = true)\n",
      " |-- EST9_E: string (nullable = true)\n",
      " |-- EST10_E: string (nullable = true)\n",
      " |-- AGR1_E: string (nullable = true)\n",
      " |-- AGR2_E: string (nullable = true)\n",
      " |-- AGR3_E: string (nullable = true)\n",
      " |-- AGR4_E: string (nullable = true)\n",
      " |-- AGR5_E: string (nullable = true)\n",
      " |-- AGR6_E: string (nullable = true)\n",
      " |-- AGR7_E: string (nullable = true)\n",
      " |-- AGR8_E: string (nullable = true)\n",
      " |-- AGR9_E: string (nullable = true)\n",
      " |-- AGR10_E: string (nullable = true)\n",
      " |-- CSN1_E: string (nullable = true)\n",
      " |-- CSN2_E: string (nullable = true)\n",
      " |-- CSN3_E: string (nullable = true)\n",
      " |-- CSN4_E: string (nullable = true)\n",
      " |-- CSN5_E: string (nullable = true)\n",
      " |-- CSN6_E: string (nullable = true)\n",
      " |-- CSN7_E: string (nullable = true)\n",
      " |-- CSN8_E: string (nullable = true)\n",
      " |-- CSN9_E: string (nullable = true)\n",
      " |-- CSN10_E: string (nullable = true)\n",
      " |-- OPN1_E: string (nullable = true)\n",
      " |-- OPN2_E: string (nullable = true)\n",
      " |-- OPN3_E: string (nullable = true)\n",
      " |-- OPN4_E: string (nullable = true)\n",
      " |-- OPN5_E: string (nullable = true)\n",
      " |-- OPN6_E: string (nullable = true)\n",
      " |-- OPN7_E: string (nullable = true)\n",
      " |-- OPN8_E: string (nullable = true)\n",
      " |-- OPN9_E: string (nullable = true)\n",
      " |-- OPN10_E: string (nullable = true)\n",
      " |-- dateload: string (nullable = true)\n",
      " |-- screenw: string (nullable = true)\n",
      " |-- screenh: string (nullable = true)\n",
      " |-- introelapse: string (nullable = true)\n",
      " |-- testelapse: string (nullable = true)\n",
      " |-- endelapse: string (nullable = true)\n",
      " |-- IPC: string (nullable = true)\n",
      " |-- country: string (nullable = true)\n",
      " |-- lat_appx_lots_of_err: string (nullable = true)\n",
      " |-- long_appx_lots_of_err: string (nullable = true)\n",
      "\n"
     ]
    }
   ],
   "source": [
    "data.printSchema()"
   ]
  },
  {
   "cell_type": "code",
   "execution_count": 21,
   "metadata": {},
   "outputs": [
    {
     "name": "stdout",
     "output_type": "stream",
     "text": [
      "+-------+\n",
      "|country|\n",
      "+-------+\n",
      "|     GB|\n",
      "|     MY|\n",
      "|     GB|\n",
      "|     GB|\n",
      "|     KE|\n",
      "|     SE|\n",
      "|     US|\n",
      "|     MY|\n",
      "|     GB|\n",
      "|     FI|\n",
      "|     UA|\n",
      "|     PH|\n",
      "|     FR|\n",
      "|     GB|\n",
      "|     AU|\n",
      "|     IN|\n",
      "|     CA|\n",
      "|     NL|\n",
      "|     ZA|\n",
      "|     HK|\n",
      "+-------+\n",
      "only showing top 20 rows\n",
      "\n"
     ]
    }
   ],
   "source": [
    "data.select('country').show()"
   ]
  },
  {
   "cell_type": "code",
   "execution_count": 31,
   "metadata": {},
   "outputs": [],
   "source": [
    "data_kr = data.filter(data['country']=='KR')\n",
    "data_us = data.filter(data['country']=='US')"
   ]
  },
  {
   "cell_type": "code",
   "execution_count": 34,
   "metadata": {},
   "outputs": [],
   "source": [
    "data_country = data_kr.union(data_us)"
   ]
  },
  {
   "cell_type": "code",
   "execution_count": 38,
   "metadata": {},
   "outputs": [
    {
     "name": "stderr",
     "output_type": "stream",
     "text": [
      "                                                                                \r"
     ]
    }
   ],
   "source": [
    "indexer = StringIndexer(inputCol='country', outputCol='countryidx')\n",
    "model = indexer.fit(data_country)\n",
    "data_convert = model.transform(data_country)"
   ]
  },
  {
   "cell_type": "code",
   "execution_count": 44,
   "metadata": {},
   "outputs": [],
   "source": [
    "data_convert = data_convert.dropna()"
   ]
  },
  {
   "cell_type": "code",
   "execution_count": 62,
   "metadata": {},
   "outputs": [],
   "source": [
    "one_encoder = OneHotEncoder(inputCol='countryidx', outputCol='countryonehot', dropLast=False)\n",
    "encoding_df = one_encoder.fit(data_convert).transform(data_convert)\n"
   ]
  },
  {
   "cell_type": "code",
   "execution_count": 46,
   "metadata": {},
   "outputs": [
    {
     "name": "stderr",
     "output_type": "stream",
     "text": [
      "[Stage 24:>                                                         (0 + 1) / 1]\r"
     ]
    },
    {
     "name": "stdout",
     "output_type": "stream",
     "text": [
      "+--------------------+\n",
      "|            features|\n",
      "+--------------------+\n",
      "|[2.0,1.0,2.0,2.0,...|\n",
      "|[1.0,5.0,1.0,5.0,...|\n",
      "|[3.0,1.0,5.0,1.0,...|\n",
      "|[4.0,1.0,5.0,1.0,...|\n",
      "|[1.0,5.0,2.0,4.0,...|\n",
      "+--------------------+\n",
      "only showing top 5 rows\n",
      "\n"
     ]
    },
    {
     "name": "stderr",
     "output_type": "stream",
     "text": [
      "                                                                                \r"
     ]
    }
   ],
   "source": [
    "cols = data_convert.columns[:50]\n",
    "\n",
    "assembler = VectorAssembler(inputCols=cols, outputCol='features')\n",
    "data_features = assembler.transform(data_convert)\n",
    "data_features.select('features').show"
   ]
  },
  {
   "cell_type": "code",
   "execution_count": 48,
   "metadata": {},
   "outputs": [
    {
     "name": "stderr",
     "output_type": "stream",
     "text": [
      "[Stage 34:>                                                         (0 + 1) / 8]\r"
     ]
    },
    {
     "name": "stdout",
     "output_type": "stream",
     "text": [
      "22/11/03 18:10:09 WARN InstanceBuilder$NativeBLAS: Failed to load implementation from:dev.ludovic.netlib.blas.JNIBLAS\n",
      "22/11/03 18:10:09 WARN InstanceBuilder$NativeBLAS: Failed to load implementation from:dev.ludovic.netlib.blas.ForeignLinkerBLAS\n"
     ]
    },
    {
     "name": "stderr",
     "output_type": "stream",
     "text": [
      "                                                                                \r"
     ]
    },
    {
     "name": "stdout",
     "output_type": "stream",
     "text": [
      "22/11/03 18:10:41 WARN LAPACK: Failed to load implementation from: com.github.fommil.netlib.NativeSystemLAPACK\n",
      "22/11/03 18:10:41 WARN LAPACK: Failed to load implementation from: com.github.fommil.netlib.NativeRefLAPACK\n"
     ]
    },
    {
     "name": "stderr",
     "output_type": "stream",
     "text": [
      "                                                                                \r"
     ]
    }
   ],
   "source": [
    "pca = PCA(k=2, inputCol='features', outputCol='out_features')\n",
    "model = pca.fit(data_features)\n",
    "reduced = model.transform(data_features)"
   ]
  },
  {
   "cell_type": "code",
   "execution_count": 49,
   "metadata": {},
   "outputs": [
    {
     "name": "stderr",
     "output_type": "stream",
     "text": [
      "                                                                                \r"
     ]
    },
    {
     "name": "stdout",
     "output_type": "stream",
     "text": [
      "22/11/03 18:12:45 WARN BLAS: Failed to load implementation from: com.github.fommil.netlib.NativeSystemBLAS\n",
      "22/11/03 18:12:45 WARN BLAS: Failed to load implementation from: com.github.fommil.netlib.NativeRefBLAS\n"
     ]
    },
    {
     "name": "stderr",
     "output_type": "stream",
     "text": [
      "                                                                                \r"
     ]
    }
   ],
   "source": [
    "gm = GaussianMixture(featuresCol = 'out_features', k=2, tol=0.0001, seed=10)\n",
    "model = gm.fit(reduced)\n",
    "prob = model.transform(reduced)"
   ]
  },
  {
   "cell_type": "code",
   "execution_count": 51,
   "metadata": {},
   "outputs": [
    {
     "name": "stdout",
     "output_type": "stream",
     "text": [
      "+----------+--------------------+\n",
      "|prediction|         probability|\n",
      "+----------+--------------------+\n",
      "|         1|[0.18056476119614...|\n",
      "|         0|[0.73798738942873...|\n",
      "|         1|[0.32214251345458...|\n",
      "|         1|[0.42634198294001...|\n",
      "|         1|[0.29429516247064...|\n",
      "+----------+--------------------+\n",
      "only showing top 5 rows\n",
      "\n"
     ]
    }
   ],
   "source": [
    "prob.select('prediction', 'probability').show(5, truncate=True)"
   ]
  },
  {
   "cell_type": "code",
   "execution_count": 70,
   "metadata": {},
   "outputs": [
    {
     "data": {
      "text/plain": [
       "['EXT1',\n",
       " 'EXT2',\n",
       " 'EXT3',\n",
       " 'EXT4',\n",
       " 'EXT5',\n",
       " 'EXT6',\n",
       " 'EXT7',\n",
       " 'EXT8',\n",
       " 'EXT9',\n",
       " 'EXT10',\n",
       " 'EST1',\n",
       " 'EST2',\n",
       " 'EST3',\n",
       " 'EST4',\n",
       " 'EST5',\n",
       " 'EST6',\n",
       " 'EST7',\n",
       " 'EST8',\n",
       " 'EST9',\n",
       " 'EST10',\n",
       " 'AGR1',\n",
       " 'AGR2',\n",
       " 'AGR3',\n",
       " 'AGR4',\n",
       " 'AGR5',\n",
       " 'AGR6',\n",
       " 'AGR7',\n",
       " 'AGR8',\n",
       " 'AGR9',\n",
       " 'AGR10',\n",
       " 'CSN1',\n",
       " 'CSN2',\n",
       " 'CSN3',\n",
       " 'CSN4',\n",
       " 'CSN5',\n",
       " 'CSN6',\n",
       " 'CSN7',\n",
       " 'CSN8',\n",
       " 'CSN9',\n",
       " 'CSN10',\n",
       " 'OPN1',\n",
       " 'OPN2',\n",
       " 'OPN3',\n",
       " 'OPN4',\n",
       " 'OPN5',\n",
       " 'OPN6',\n",
       " 'OPN7',\n",
       " 'OPN8',\n",
       " 'OPN9',\n",
       " 'OPN10',\n",
       " 'EXT1_E',\n",
       " 'EXT2_E',\n",
       " 'EXT3_E',\n",
       " 'EXT4_E',\n",
       " 'EXT5_E',\n",
       " 'EXT6_E',\n",
       " 'EXT7_E',\n",
       " 'EXT8_E',\n",
       " 'EXT9_E',\n",
       " 'EXT10_E',\n",
       " 'EST1_E',\n",
       " 'EST2_E',\n",
       " 'EST3_E',\n",
       " 'EST4_E',\n",
       " 'EST5_E',\n",
       " 'EST6_E',\n",
       " 'EST7_E',\n",
       " 'EST8_E',\n",
       " 'EST9_E',\n",
       " 'EST10_E',\n",
       " 'AGR1_E',\n",
       " 'AGR2_E',\n",
       " 'AGR3_E',\n",
       " 'AGR4_E',\n",
       " 'AGR5_E',\n",
       " 'AGR6_E',\n",
       " 'AGR7_E',\n",
       " 'AGR8_E',\n",
       " 'AGR9_E',\n",
       " 'AGR10_E',\n",
       " 'CSN1_E',\n",
       " 'CSN2_E',\n",
       " 'CSN3_E',\n",
       " 'CSN4_E',\n",
       " 'CSN5_E',\n",
       " 'CSN6_E',\n",
       " 'CSN7_E',\n",
       " 'CSN8_E',\n",
       " 'CSN9_E',\n",
       " 'CSN10_E',\n",
       " 'OPN1_E',\n",
       " 'OPN2_E',\n",
       " 'OPN3_E',\n",
       " 'OPN4_E',\n",
       " 'OPN5_E',\n",
       " 'OPN6_E',\n",
       " 'OPN7_E',\n",
       " 'OPN8_E',\n",
       " 'OPN9_E',\n",
       " 'OPN10_E',\n",
       " 'dateload',\n",
       " 'screenw',\n",
       " 'screenh',\n",
       " 'introelapse',\n",
       " 'testelapse',\n",
       " 'endelapse',\n",
       " 'IPC',\n",
       " 'country',\n",
       " 'lat_appx_lots_of_err',\n",
       " 'long_appx_lots_of_err',\n",
       " 'countryidx',\n",
       " 'features',\n",
       " 'out_features',\n",
       " 'probability',\n",
       " 'prediction']"
      ]
     },
     "execution_count": 70,
     "metadata": {},
     "output_type": "execute_result"
    }
   ],
   "source": [
    "prob.columns"
   ]
  },
  {
   "cell_type": "code",
   "execution_count": 64,
   "metadata": {},
   "outputs": [],
   "source": [
    "one_encoder = OneHotEncoder(inputCol='countryidx', outputCol='countryonehot', dropLast=False)\n",
    "encoding_df = one_encoder.fit(prob).transform(prob)\n"
   ]
  },
  {
   "cell_type": "code",
   "execution_count": 71,
   "metadata": {},
   "outputs": [],
   "source": [
    "assembler = VectorAssembler(inputCols=['countryonehot', 'probability'], outputCol='onehot_features')\n",
    "data_features = assembler.transform(encoding_df)"
   ]
  },
  {
   "cell_type": "code",
   "execution_count": 74,
   "metadata": {},
   "outputs": [
    {
     "data": {
      "text/plain": [
       "['EXT1',\n",
       " 'EXT2',\n",
       " 'EXT3',\n",
       " 'EXT4',\n",
       " 'EXT5',\n",
       " 'EXT6',\n",
       " 'EXT7',\n",
       " 'EXT8',\n",
       " 'EXT9',\n",
       " 'EXT10',\n",
       " 'EST1',\n",
       " 'EST2',\n",
       " 'EST3',\n",
       " 'EST4',\n",
       " 'EST5',\n",
       " 'EST6',\n",
       " 'EST7',\n",
       " 'EST8',\n",
       " 'EST9',\n",
       " 'EST10',\n",
       " 'AGR1',\n",
       " 'AGR2',\n",
       " 'AGR3',\n",
       " 'AGR4',\n",
       " 'AGR5',\n",
       " 'AGR6',\n",
       " 'AGR7',\n",
       " 'AGR8',\n",
       " 'AGR9',\n",
       " 'AGR10',\n",
       " 'CSN1',\n",
       " 'CSN2',\n",
       " 'CSN3',\n",
       " 'CSN4',\n",
       " 'CSN5',\n",
       " 'CSN6',\n",
       " 'CSN7',\n",
       " 'CSN8',\n",
       " 'CSN9',\n",
       " 'CSN10',\n",
       " 'OPN1',\n",
       " 'OPN2',\n",
       " 'OPN3',\n",
       " 'OPN4',\n",
       " 'OPN5',\n",
       " 'OPN6',\n",
       " 'OPN7',\n",
       " 'OPN8',\n",
       " 'OPN9',\n",
       " 'OPN10',\n",
       " 'EXT1_E',\n",
       " 'EXT2_E',\n",
       " 'EXT3_E',\n",
       " 'EXT4_E',\n",
       " 'EXT5_E',\n",
       " 'EXT6_E',\n",
       " 'EXT7_E',\n",
       " 'EXT8_E',\n",
       " 'EXT9_E',\n",
       " 'EXT10_E',\n",
       " 'EST1_E',\n",
       " 'EST2_E',\n",
       " 'EST3_E',\n",
       " 'EST4_E',\n",
       " 'EST5_E',\n",
       " 'EST6_E',\n",
       " 'EST7_E',\n",
       " 'EST8_E',\n",
       " 'EST9_E',\n",
       " 'EST10_E',\n",
       " 'AGR1_E',\n",
       " 'AGR2_E',\n",
       " 'AGR3_E',\n",
       " 'AGR4_E',\n",
       " 'AGR5_E',\n",
       " 'AGR6_E',\n",
       " 'AGR7_E',\n",
       " 'AGR8_E',\n",
       " 'AGR9_E',\n",
       " 'AGR10_E',\n",
       " 'CSN1_E',\n",
       " 'CSN2_E',\n",
       " 'CSN3_E',\n",
       " 'CSN4_E',\n",
       " 'CSN5_E',\n",
       " 'CSN6_E',\n",
       " 'CSN7_E',\n",
       " 'CSN8_E',\n",
       " 'CSN9_E',\n",
       " 'CSN10_E',\n",
       " 'OPN1_E',\n",
       " 'OPN2_E',\n",
       " 'OPN3_E',\n",
       " 'OPN4_E',\n",
       " 'OPN5_E',\n",
       " 'OPN6_E',\n",
       " 'OPN7_E',\n",
       " 'OPN8_E',\n",
       " 'OPN9_E',\n",
       " 'OPN10_E',\n",
       " 'dateload',\n",
       " 'screenw',\n",
       " 'screenh',\n",
       " 'introelapse',\n",
       " 'testelapse',\n",
       " 'endelapse',\n",
       " 'IPC',\n",
       " 'country',\n",
       " 'lat_appx_lots_of_err',\n",
       " 'long_appx_lots_of_err',\n",
       " 'countryidx',\n",
       " 'features',\n",
       " 'out_features',\n",
       " 'probability',\n",
       " 'prediction',\n",
       " 'countryonehot',\n",
       " 'onehot_features']"
      ]
     },
     "execution_count": 74,
     "metadata": {},
     "output_type": "execute_result"
    }
   ],
   "source": [
    "data_features.columns"
   ]
  },
  {
   "cell_type": "code",
   "execution_count": 75,
   "metadata": {},
   "outputs": [
    {
     "name": "stderr",
     "output_type": "stream",
     "text": [
      "                                                                                \r"
     ]
    },
    {
     "data": {
      "text/plain": [
       "Row(pearson(onehot_features)=DenseMatrix(4, 4, [1.0, -1.0, 0.0067, -0.0067, -1.0, 1.0, -0.0067, 0.0067, 0.0067, -0.0067, 1.0, -1.0, -0.0067, 0.0067, -1.0, 1.0], False))"
      ]
     },
     "execution_count": 75,
     "metadata": {},
     "output_type": "execute_result"
    }
   ],
   "source": [
    "Correlation.corr(data_features, 'onehot_features', 'pearson').first()"
   ]
  },
  {
   "cell_type": "code",
   "execution_count": null,
   "metadata": {},
   "outputs": [],
   "source": []
  }
 ],
 "metadata": {
  "kernelspec": {
   "display_name": "Python 3 (ipykernel)",
   "language": "python",
   "name": "python3"
  },
  "language_info": {
   "codemirror_mode": {
    "name": "ipython",
    "version": 3
   },
   "file_extension": ".py",
   "mimetype": "text/x-python",
   "name": "python",
   "nbconvert_exporter": "python",
   "pygments_lexer": "ipython3",
   "version": "3.8.15"
  },
  "vscode": {
   "interpreter": {
    "hash": "f1c0308d9e60edfff9ca7226db277a962a4f93118ca495134b255cd0e6a3820b"
   }
  }
 },
 "nbformat": 4,
 "nbformat_minor": 4
}
