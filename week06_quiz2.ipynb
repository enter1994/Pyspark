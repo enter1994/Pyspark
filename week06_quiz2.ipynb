{
 "cells": [
  {
   "cell_type": "code",
   "execution_count": 1,
   "metadata": {},
   "outputs": [
    {
     "name": "stdout",
     "output_type": "stream",
     "text": [
      "22/10/17 13:39:31 WARN Utils: Your hostname, bagdoyeong-ui-MacBookAir.local resolves to a loopback address: 127.0.0.1; using 192.168.0.13 instead (on interface en0)\n",
      "22/10/17 13:39:31 WARN Utils: Set SPARK_LOCAL_IP if you need to bind to another address\n"
     ]
    },
    {
     "name": "stderr",
     "output_type": "stream",
     "text": [
      "Setting default log level to \"WARN\".\n",
      "To adjust logging level use sc.setLogLevel(newLevel). For SparkR, use setLogLevel(newLevel).\n"
     ]
    },
    {
     "name": "stdout",
     "output_type": "stream",
     "text": [
      "22/10/17 13:39:32 WARN NativeCodeLoader: Unable to load native-hadoop library for your platform... using builtin-java classes where applicable\n"
     ]
    }
   ],
   "source": [
    "# import findspark\n",
    "from pyspark.sql import SparkSession\n",
    "from pyspark.sql.types import *\n",
    "from pyspark.sql.functions import substring, size\n",
    "\n",
    "spark = SparkSession.builder.appName('my app').master('local').getOrCreate()\n",
    "sc = spark.sparkContext\n",
    "\n",
    "dataschema = StructType([\n",
    "   StructField(\"playerID\", StringType(), False),\n",
    "   StructField(\"awardID\", StringType(), False),\n",
    "   StructField(\"yearID\", LongType(), False),\n",
    "   StructField(\"lgID\", StringType(), False),\n",
    "   StructField(\"tie\", LongType(), False),\n",
    "   StructField(\"notes\", LongType(), False)\n",
    " ])\n",
    "\n",
    "salaryschema = StructType([\n",
    "   StructField(\"yearID\", LongType(), False),\n",
    "   StructField(\"teamID\", StringType(), False),\n",
    "   StructField(\"lgID\", StringType(), False),\n",
    "   StructField(\"playerID\", StringType(), False),\n",
    "   StructField(\"salary\", LongType(), False)\n",
    " ])\n",
    "\n",
    "award_df = spark.read.format(\"csv\").option(\"sep\", \",\").option('header', True).schema(dataschema).load(\"./input_week06/AwardsPlayers.csv\")\n",
    "salary_df = spark.read.format(\"csv\").option(\"sep\", \",\").option('header', True).schema(salaryschema).load(\"./input_week06/Salaries.csv\")\n"
   ]
  },
  {
   "cell_type": "code",
   "execution_count": 2,
   "metadata": {},
   "outputs": [],
   "source": [
    "from pyspark.sql import functions as F\n",
    "from pyspark.sql.functions import udf, expr"
   ]
  },
  {
   "cell_type": "markdown",
   "metadata": {},
   "source": [
    "문제 1.\n",
    "\n",
    "  3년 연속 같은 상을 수상한 선수를 찾아 그 3년간의 연봉평균을 출력하시오\n",
    "  만일, 3년 초과 같은 상을 수상하였다면 모든 연속된 3년에 대해 연봉평균을 출력하시오"
   ]
  },
  {
   "cell_type": "code",
   "execution_count": 3,
   "metadata": {},
   "outputs": [
    {
     "name": "stderr",
     "output_type": "stream",
     "text": [
      "[Stage 0:>                                                          (0 + 1) / 1]\r"
     ]
    },
    {
     "name": "stdout",
     "output_type": "stream",
     "text": [
      "+---------+--------------------+------+----+----+-----+\n",
      "| playerID|             awardID|yearID|lgID| tie|notes|\n",
      "+---------+--------------------+------+----+----+-----+\n",
      "| Brecheen|Baseball Magazine...|  1945|  ML|null| null|\n",
      "| Brecheen|Baseball Magazine...|  1945|  NL|null| null|\n",
      "| Brecheen|Baseball Magazine...|  1946|  NL|null| null|\n",
      "| Brecheen|Baseball Magazine...|  1948|  NL|null| null|\n",
      "|aaronha01|          Gold Glove|  1958|  NL|null| null|\n",
      "|aaronha01|          Gold Glove|  1959|  NL|null| null|\n",
      "|aaronha01|          Gold Glove|  1960|  NL|null| null|\n",
      "|aaronha01|Lou Gehrig Memori...|  1970|  ML|null| null|\n",
      "|aaronha01|Most Valuable Player|  1957|  NL|null| null|\n",
      "|aaronha01|        TSN All-Star|  1956|  ML|null| null|\n",
      "|aaronha01|        TSN All-Star|  1958|  ML|null| null|\n",
      "|aaronha01|        TSN All-Star|  1959|  ML|null| null|\n",
      "|aaronha01|        TSN All-Star|  1963|  NL|null| null|\n",
      "|aaronha01|        TSN All-Star|  1965|  NL|null| null|\n",
      "|aaronha01|        TSN All-Star|  1967|  NL|null| null|\n",
      "|aaronha01|        TSN All-Star|  1969|  NL|null| null|\n",
      "|aaronha01|        TSN All-Star|  1970|  NL|null| null|\n",
      "|aaronha01|        TSN All-Star|  1971|  NL|null| null|\n",
      "|aaronha01|TSN Player of the...|  1956|  NL|null| null|\n",
      "|aaronha01|TSN Player of the...|  1963|  NL|null| null|\n",
      "+---------+--------------------+------+----+----+-----+\n",
      "only showing top 20 rows\n",
      "\n"
     ]
    },
    {
     "name": "stderr",
     "output_type": "stream",
     "text": [
      "                                                                                \r"
     ]
    }
   ],
   "source": [
    "award_df.sort('playerID', 'awardID', 'yearID').show()"
   ]
  },
  {
   "cell_type": "code",
   "execution_count": 4,
   "metadata": {},
   "outputs": [],
   "source": [
    "award_df_cnt = award_df.groupBy('playerID').count()\n",
    "award_df_filter = award_df_cnt.filter(award_df_cnt['count']>=3)\n",
    "award_df_filter = award_df_filter.selectExpr('playerID as playID')\n",
    "award_ = award_df.join(award_df_filter, award_df['playerID']==award_df_filter['playID'], 'inner')"
   ]
  },
  {
   "cell_type": "code",
   "execution_count": 5,
   "metadata": {},
   "outputs": [],
   "source": [
    "award_ = award_.sort('playerID', 'awardID', 'yearID').select('playerID', 'awardID', 'yearID', 'lgID')\n",
    "award_group = award_.groupBy('playerID', 'awardID').agg(F.collect_set('yearID').alias('year'))"
   ]
  },
  {
   "cell_type": "code",
   "execution_count": 6,
   "metadata": {},
   "outputs": [
    {
     "name": "stderr",
     "output_type": "stream",
     "text": [
      "[Stage 7:===========================================================(1 + 0) / 1]\r"
     ]
    },
    {
     "name": "stdout",
     "output_type": "stream",
     "text": [
      "+---------+--------------------+--------------------+---+\n",
      "| playerID|             awardID|                year|cnt|\n",
      "+---------+--------------------+--------------------+---+\n",
      "| Brecheen|Baseball Magazine...|  [1948, 1945, 1946]|  3|\n",
      "|aaronha01|          Gold Glove|  [1958, 1959, 1960]|  3|\n",
      "|aaronha01|        TSN All-Star|[1965, 1969, 1958...|  9|\n",
      "|alexape01|Baseball Magazine...|[1917, 1914, 1915...| 10|\n",
      "|alexape01|Pitching Triple C...|  [1915, 1920, 1916]|  3|\n",
      "|allenjo02|Baseball Magazine...|  [1936, 1937, 1938]|  3|\n",
      "|alomaro01|          Gold Glove|[2001, 1998, 1991...| 10|\n",
      "|alomaro01|      Silver Slugger|[1992, 1999, 1996...|  4|\n",
      "|alomaro01|        TSN All-Star|[1998, 1992, 1999...|  5|\n",
      "|aparilu01|          Gold Glove|[1968, 1966, 1958...|  9|\n",
      "|aparilu01|        TSN All-Star|[1968, 1972, 1966...|  5|\n",
      "|applilu01|Baseball Magazine...|[1936, 1940, 1937...|  4|\n",
      "|applilu01|        TSN All-Star|  [1936, 1940, 1943]|  3|\n",
      "|archeji01|Baseball Magazine...|[1914, 1911, 1912...|  5|\n",
      "|ausmubr01|          Gold Glove|  [2001, 2002, 2006]|  3|\n",
      "|averiea01|Baseball Magazine...|[1932, 1936, 1933...|  6|\n",
      "|averiea01|        TSN All-Star|[1932, 1936, 1934...|  4|\n",
      "|bagweje01|      Silver Slugger|  [1999, 1997, 1994]|  3|\n",
      "|bagweje01|        TSN All-Star|[1999, 1996, 1997...|  4|\n",
      "|baineha01|        TSN All-Star|  [1988, 1989, 1985]|  3|\n",
      "+---------+--------------------+--------------------+---+\n",
      "only showing top 20 rows\n",
      "\n"
     ]
    },
    {
     "name": "stderr",
     "output_type": "stream",
     "text": [
      "                                                                                \r"
     ]
    }
   ],
   "source": [
    "award_group_cnt = award_group.select('*', size('year').alias('cnt'))\n",
    "award_group_cnt = award_group_cnt.filter(award_group_cnt['cnt']>=3)\n",
    "award_group_cnt.show()"
   ]
  },
  {
   "cell_type": "code",
   "execution_count": 7,
   "metadata": {},
   "outputs": [],
   "source": [
    "def check_is_consecutive(l):\n",
    "     l = sorted(l)\n",
    "     result = []\n",
    "     for i in range(len(l)-2):\n",
    "          if l[i] + 2 == l[i+1] + 1 == l[i+2]:\n",
    "               result.append([l[i], l[i+1], l[i+2]])\n",
    "\n",
    "     return result"
   ]
  },
  {
   "cell_type": "code",
   "execution_count": 8,
   "metadata": {},
   "outputs": [
    {
     "data": {
      "text/plain": [
       "[[1, 2, 3], [5, 6, 7]]"
      ]
     },
     "execution_count": 8,
     "metadata": {},
     "output_type": "execute_result"
    }
   ],
   "source": [
    "check_is_consecutive([1,2,3,5,6,7])"
   ]
  },
  {
   "cell_type": "code",
   "execution_count": 9,
   "metadata": {},
   "outputs": [
    {
     "name": "stderr",
     "output_type": "stream",
     "text": [
      "[Stage 17:>                                                         (0 + 1) / 1]\r"
     ]
    },
    {
     "name": "stdout",
     "output_type": "stream",
     "text": [
      "+---------+--------------------+--------------------+---+--------------------+\n",
      "| playerID|             awardID|                year|cnt|                type|\n",
      "+---------+--------------------+--------------------+---+--------------------+\n",
      "| Brecheen|Baseball Magazine...|  [1948, 1945, 1946]|  3|                  []|\n",
      "|aaronha01|          Gold Glove|  [1958, 1959, 1960]|  3|[[1958, 1959, 1960]]|\n",
      "|aaronha01|        TSN All-Star|[1965, 1969, 1958...|  9|[[1969, 1970, 1971]]|\n",
      "|alexape01|Baseball Magazine...|[1917, 1914, 1915...| 10|[[1913, 1914, 191...|\n",
      "|alexape01|Pitching Triple C...|  [1915, 1920, 1916]|  3|                  []|\n",
      "|allenjo02|Baseball Magazine...|  [1936, 1937, 1938]|  3|[[1936, 1937, 1938]]|\n",
      "|alomaro01|          Gold Glove|[2001, 1998, 1991...| 10|[[1991, 1992, 199...|\n",
      "|alomaro01|      Silver Slugger|[1992, 1999, 1996...|  4|                  []|\n",
      "|alomaro01|        TSN All-Star|[1998, 1992, 1999...|  5|[[1998, 1999, 2000]]|\n",
      "|aparilu01|          Gold Glove|[1968, 1966, 1958...|  9|[[1958, 1959, 196...|\n",
      "|aparilu01|        TSN All-Star|[1968, 1972, 1966...|  5|                  []|\n",
      "|applilu01|Baseball Magazine...|[1936, 1940, 1937...|  4|                  []|\n",
      "|applilu01|        TSN All-Star|  [1936, 1940, 1943]|  3|                  []|\n",
      "|archeji01|Baseball Magazine...|[1914, 1911, 1912...|  5|[[1910, 1911, 191...|\n",
      "|ausmubr01|          Gold Glove|  [2001, 2002, 2006]|  3|                  []|\n",
      "|averiea01|Baseball Magazine...|[1932, 1936, 1933...|  6|[[1930, 1931, 193...|\n",
      "|averiea01|        TSN All-Star|[1932, 1936, 1934...|  4|                  []|\n",
      "|bagweje01|      Silver Slugger|  [1999, 1997, 1994]|  3|                  []|\n",
      "|bagweje01|        TSN All-Star|[1999, 1996, 1997...|  4|                  []|\n",
      "|baineha01|        TSN All-Star|  [1988, 1989, 1985]|  3|                  []|\n",
      "+---------+--------------------+--------------------+---+--------------------+\n",
      "only showing top 20 rows\n",
      "\n"
     ]
    },
    {
     "name": "stderr",
     "output_type": "stream",
     "text": [
      "                                                                                \r"
     ]
    }
   ],
   "source": [
    "udf_sort = udf(lambda x: check_is_consecutive(x))\n",
    "award_bool = award_group_cnt.select('*', udf_sort(award_group_cnt['year']).alias('type'))\n",
    "award_bool.show()"
   ]
  },
  {
   "cell_type": "code",
   "execution_count": null,
   "metadata": {},
   "outputs": [],
   "source": []
  },
  {
   "cell_type": "markdown",
   "metadata": {},
   "source": [
    "문제 2.\n",
    "\n",
    "NL리그에서 가장 많이 이긴 팀을 찾으시오"
   ]
  },
  {
   "cell_type": "code",
   "execution_count": 10,
   "metadata": {},
   "outputs": [],
   "source": [
    "win_df = spark.read.format(\"csv\").option(\"sep\", \",\").option('header', True).load(\"./input_week06/Teams.csv\")"
   ]
  },
  {
   "cell_type": "code",
   "execution_count": 11,
   "metadata": {},
   "outputs": [
    {
     "name": "stdout",
     "output_type": "stream",
     "text": [
      "+----+------+---+\n",
      "|lgID|teamID|  W|\n",
      "+----+------+---+\n",
      "|  NA|   BS1| 20|\n",
      "|  NA|   CH1| 19|\n",
      "|  NA|   CL1| 10|\n",
      "|  NA|   FW1|  7|\n",
      "|  NA|   NY2| 16|\n",
      "|  NA|   PH1| 21|\n",
      "|  NA|   RC1|  4|\n",
      "|  NA|   TRO| 13|\n",
      "|  NA|   WS3| 15|\n",
      "|  NA|   BL1| 35|\n",
      "|  NA|   BR1|  3|\n",
      "|  NA|   BR2|  9|\n",
      "|  NA|   BS1| 39|\n",
      "|  NA|   CL1|  6|\n",
      "|  NA|   MID|  5|\n",
      "|  NA|   NY2| 34|\n",
      "|  NA|   PH1| 30|\n",
      "|  NA|   TRO| 15|\n",
      "|  NA|   WS3|  2|\n",
      "|  NA|   WS4|  0|\n",
      "+----+------+---+\n",
      "only showing top 20 rows\n",
      "\n"
     ]
    }
   ],
   "source": [
    "win_df.select('lgID', 'teamID', 'W').show()"
   ]
  },
  {
   "cell_type": "code",
   "execution_count": 12,
   "metadata": {},
   "outputs": [],
   "source": [
    "win_ = win_df.withColumn('W', win_df['W'].cast('long')).select('lgID', 'teamID', 'W')"
   ]
  },
  {
   "cell_type": "code",
   "execution_count": 13,
   "metadata": {},
   "outputs": [],
   "source": [
    "win_sum = win_.groupBy('teamID').sum('W').withColumnRenamed('sum(W)', 'sum_W')"
   ]
  },
  {
   "cell_type": "code",
   "execution_count": 14,
   "metadata": {},
   "outputs": [
    {
     "name": "stdout",
     "output_type": "stream",
     "text": [
      "+------+-----+\n",
      "|teamID|sum_W|\n",
      "+------+-----+\n",
      "|   CHN|10372|\n",
      "+------+-----+\n",
      "only showing top 1 row\n",
      "\n"
     ]
    }
   ],
   "source": [
    "win_sum.sort('sum_W', ascending=False).show(1)"
   ]
  },
  {
   "cell_type": "code",
   "execution_count": null,
   "metadata": {},
   "outputs": [],
   "source": []
  }
 ],
 "metadata": {
  "kernelspec": {
   "display_name": "Python 3 (ipykernel)",
   "language": "python",
   "name": "python3"
  },
  "language_info": {
   "codemirror_mode": {
    "name": "ipython",
    "version": 3
   },
   "file_extension": ".py",
   "mimetype": "text/x-python",
   "name": "python",
   "nbconvert_exporter": "python",
   "pygments_lexer": "ipython3",
   "version": "3.8.13"
  },
  "vscode": {
   "interpreter": {
    "hash": "f1c0308d9e60edfff9ca7226db277a962a4f93118ca495134b255cd0e6a3820b"
   }
  }
 },
 "nbformat": 4,
 "nbformat_minor": 4
}
