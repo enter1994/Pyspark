{
 "cells": [
  {
   "cell_type": "code",
   "execution_count": 4,
   "metadata": {},
   "outputs": [
    {
     "name": "stdout",
     "output_type": "stream",
     "text": [
      "22/10/06 08:07:02 WARN Utils: Your hostname, cherry resolves to a loopback address: 127.0.1.1; using 192.168.0.7 instead (on interface enp6s0)\n",
      "22/10/06 08:07:02 WARN Utils: Set SPARK_LOCAL_IP if you need to bind to another address\n"
     ]
    },
    {
     "name": "stderr",
     "output_type": "stream",
     "text": [
      "Setting default log level to \"WARN\".\n",
      "To adjust logging level use sc.setLogLevel(newLevel). For SparkR, use setLogLevel(newLevel).\n"
     ]
    },
    {
     "name": "stdout",
     "output_type": "stream",
     "text": [
      "22/10/06 08:07:02 WARN NativeCodeLoader: Unable to load native-hadoop library for your platform... using builtin-java classes where applicable\n",
      "22/10/06 08:07:03 WARN Utils: Service 'SparkUI' could not bind on port 4040. Attempting port 4041.\n"
     ]
    }
   ],
   "source": [
    "import findspark\n",
    "from pyspark.sql import SparkSession\n",
    "from pyspark.sql.types import *\n",
    "from pyspark.sql.functions import substring\n",
    "\n",
    "spark = SparkSession.builder.appName('my app').master('local').getOrCreate()\n",
    "sc = spark.sparkContext\n",
    "\n",
    "udataschema = StructType([\n",
    "   StructField(\"uid\", LongType(), False),\n",
    "   StructField(\"mid\", LongType(), False),\n",
    "   StructField(\"rate\",LongType(), False),\n",
    "   StructField(\"timestamp\", LongType(), False)\n",
    " ])\n",
    "\n",
    "uitemschema = StructType([\n",
    "  StructField(\"mid\", LongType(), False),\n",
    "  StructField(\"title\",StringType(), False)\n",
    "])\n",
    "\n",
    "data_df = spark.read.format(\"csv\").option(\"sep\", \"\\t\").schema(udataschema).load(\"./input_week05/u.data\")\n",
    "item_df = spark.read.format(\"csv\").option(\"sep\", \"|\").schema(uitemschema).load(\"./input_week05/u.item\")"
   ]
  },
  {
   "cell_type": "code",
   "execution_count": 4,
   "metadata": {},
   "outputs": [
    {
     "name": "stdout",
     "output_type": "stream",
     "text": [
      "+---+--------------------+\n",
      "|mid|               title|\n",
      "+---+--------------------+\n",
      "|  1|    Toy Story (1995)|\n",
      "|  2|    GoldenEye (1995)|\n",
      "|  3|   Four Rooms (1995)|\n",
      "|  4|   Get Shorty (1995)|\n",
      "|  5|      Copycat (1995)|\n",
      "|  6|Shanghai Triad (Y...|\n",
      "|  7|Twelve Monkeys (1...|\n",
      "|  8|         Babe (1995)|\n",
      "|  9|Dead Man Walking ...|\n",
      "| 10|  Richard III (1995)|\n",
      "+---+--------------------+\n",
      "only showing top 10 rows\n",
      "\n"
     ]
    }
   ],
   "source": [
    "item_df.show(10)"
   ]
  },
  {
   "cell_type": "code",
   "execution_count": 5,
   "metadata": {},
   "outputs": [
    {
     "name": "stdout",
     "output_type": "stream",
     "text": [
      "+---+---+----+---------+\n",
      "|uid|mid|rate|timestamp|\n",
      "+---+---+----+---------+\n",
      "|196|242|   3|881250949|\n",
      "|186|302|   3|891717742|\n",
      "| 22|377|   1|878887116|\n",
      "|244| 51|   2|880606923|\n",
      "|166|346|   1|886397596|\n",
      "|298|474|   4|884182806|\n",
      "|115|265|   2|881171488|\n",
      "|253|465|   5|891628467|\n",
      "|305|451|   3|886324817|\n",
      "|  6| 86|   3|883603013|\n",
      "+---+---+----+---------+\n",
      "only showing top 10 rows\n",
      "\n"
     ]
    }
   ],
   "source": [
    "data_df.show(10)"
   ]
  },
  {
   "cell_type": "markdown",
   "metadata": {},
   "source": [
    "### 1"
   ]
  },
  {
   "cell_type": "code",
   "execution_count": 9,
   "metadata": {},
   "outputs": [
    {
     "data": {
      "text/plain": [
       "75"
      ]
     },
     "execution_count": 9,
     "metadata": {},
     "output_type": "execute_result"
    }
   ],
   "source": [
    "# quiz 1\n",
    "data_filter = data_df.filter(data_df['rate']==5)\n",
    "joinExpression = data_filter['mid'] == item_df['mid']\n",
    "\n",
    "data_filter = data_filter.join(item_df, joinExpression, 'inner')\n",
    "data_filter.filter(substring(data_filter[\"title\"], 0, 1)=='T').select('title').distinct().count()"
   ]
  },
  {
   "cell_type": "markdown",
   "metadata": {},
   "source": [
    "### 2"
   ]
  },
  {
   "cell_type": "code",
   "execution_count": 7,
   "metadata": {},
   "outputs": [],
   "source": [
    "data_filter = data_df.filter(data_df['rate']==1 | 5)"
   ]
  },
  {
   "cell_type": "code",
   "execution_count": 13,
   "metadata": {},
   "outputs": [],
   "source": [
    "joinExpression = data_filter['mid'] == item_df['mid']\n",
    "\n",
    "union_df = data_filter.join(item_df, joinExpression, 'inner').select('title')"
   ]
  },
  {
   "cell_type": "code",
   "execution_count": 18,
   "metadata": {},
   "outputs": [
    {
     "name": "stdout",
     "output_type": "stream",
     "text": [
      "+------------------+\n",
      "|max(length(title))|\n",
      "+------------------+\n",
      "|                81|\n",
      "+------------------+\n",
      "\n"
     ]
    }
   ],
   "source": [
    "union_df.selectExpr('max(length(title))').show()"
   ]
  },
  {
   "cell_type": "code",
   "execution_count": null,
   "metadata": {},
   "outputs": [],
   "source": []
  }
 ],
 "metadata": {
  "kernelspec": {
   "display_name": "Python 3.8.10 64-bit",
   "language": "python",
   "name": "python3"
  },
  "language_info": {
   "codemirror_mode": {
    "name": "ipython",
    "version": 3
   },
   "file_extension": ".py",
   "mimetype": "text/x-python",
   "name": "python",
   "nbconvert_exporter": "python",
   "pygments_lexer": "ipython3",
   "version": "3.8.10"
  },
  "orig_nbformat": 4,
  "vscode": {
   "interpreter": {
    "hash": "31f2aee4e71d21fbe5cf8b01ff0e069b9275f58929596ceb00d14d90e3e16cd6"
   }
  }
 },
 "nbformat": 4,
 "nbformat_minor": 2
}
