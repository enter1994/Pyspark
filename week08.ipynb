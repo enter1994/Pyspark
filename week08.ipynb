{
 "cells": [
  {
   "cell_type": "code",
   "execution_count": 1,
   "metadata": {},
   "outputs": [
    {
     "name": "stdout",
     "output_type": "stream",
     "text": [
      "22/10/27 13:09:58 WARN Utils: Your hostname, bagdoyeong-ui-MacBookAir.local resolves to a loopback address: 127.0.0.1; using 192.168.0.13 instead (on interface en0)\n",
      "22/10/27 13:09:58 WARN Utils: Set SPARK_LOCAL_IP if you need to bind to another address\n"
     ]
    },
    {
     "name": "stderr",
     "output_type": "stream",
     "text": [
      "Setting default log level to \"WARN\".\n",
      "To adjust logging level use sc.setLogLevel(newLevel). For SparkR, use setLogLevel(newLevel).\n"
     ]
    },
    {
     "name": "stdout",
     "output_type": "stream",
     "text": [
      "22/10/27 13:09:59 WARN NativeCodeLoader: Unable to load native-hadoop library for your platform... using builtin-java classes where applicable\n"
     ]
    }
   ],
   "source": [
    "from pyspark.sql import SparkSession\n",
    "from pyspark.sql.types import *\n",
    "\n",
    "spark = SparkSession.builder.appName('my app').master('local').getOrCreate()\n",
    "sc = spark.sparkContext"
   ]
  },
  {
   "cell_type": "code",
   "execution_count": 2,
   "metadata": {},
   "outputs": [],
   "source": [
    "from pyspark.sql.types import *\n",
    "import pyspark.sql.functions as fn\n",
    "from pyspark.ml.feature import Imputer\n",
    "from pyspark.ml.feature import VectorAssembler\n",
    "from pyspark.ml.feature import StandardScaler\n",
    "\n",
    "from pyspark.ml.classification import LogisticRegression"
   ]
  },
  {
   "cell_type": "code",
   "execution_count": 3,
   "metadata": {},
   "outputs": [
    {
     "name": "stderr",
     "output_type": "stream",
     "text": [
      "                                                                                \r"
     ]
    }
   ],
   "source": [
    "raw_data = spark.read.format('csv').option('header', 'true').load('./input_week08/diabetes.csv')"
   ]
  },
  {
   "cell_type": "code",
   "execution_count": 4,
   "metadata": {},
   "outputs": [
    {
     "name": "stdout",
     "output_type": "stream",
     "text": [
      "root\n",
      " |-- Pregnancies: string (nullable = true)\n",
      " |-- Glucose: string (nullable = true)\n",
      " |-- BloodPressure: string (nullable = true)\n",
      " |-- SkinThickness: string (nullable = true)\n",
      " |-- Insulin: string (nullable = true)\n",
      " |-- BMI: string (nullable = true)\n",
      " |-- DiabetesPedigreeFunction: string (nullable = true)\n",
      " |-- Age: string (nullable = true)\n",
      " |-- Outcome: string (nullable = true)\n",
      "\n"
     ]
    }
   ],
   "source": [
    "raw_data.printSchema()"
   ]
  },
  {
   "cell_type": "code",
   "execution_count": 35,
   "metadata": {},
   "outputs": [
    {
     "name": "stdout",
     "output_type": "stream",
     "text": [
      "root\n",
      " |-- Pregnancies: float (nullable = true)\n",
      " |-- Glucose: float (nullable = true)\n",
      " |-- BloodPressure: float (nullable = true)\n",
      " |-- SkinThickness: float (nullable = true)\n",
      " |-- Insulin: float (nullable = true)\n",
      " |-- BMI: float (nullable = true)\n",
      " |-- DiabetesPedigreeFunction: float (nullable = true)\n",
      " |-- Age: float (nullable = true)\n",
      " |-- Outcome: float (nullable = true)\n",
      "\n"
     ]
    }
   ],
   "source": [
    "schema = StructType([\n",
    "    StructField('Pregnancies', FloatType(), True),\n",
    "    StructField('Glucose', FloatType(), True),\n",
    "    StructField('BloodPressure', FloatType(), True),\n",
    "    StructField('SkinThickness', FloatType(), True),\n",
    "    StructField('Insulin', FloatType(), True),\n",
    "    StructField('BMI', FloatType(), True),\n",
    "    StructField('DiabetesPedigreeFunction', FloatType(), True),\n",
    "    StructField('Age', FloatType(), True),\n",
    "    StructField('Outcome', FloatType(), True)\n",
    "])\n",
    "\n",
    "raw_data = spark.read.format('csv').option('header', 'true').schema(schema).load('diabetes.csv')\n",
    "raw_data.printSchema()"
   ]
  },
  {
   "cell_type": "code",
   "execution_count": 36,
   "metadata": {},
   "outputs": [
    {
     "name": "stdout",
     "output_type": "stream",
     "text": [
      "+-------+-----------------+------------------+------------------+------------------+-----------------+\n",
      "|summary|          Glucose|     BloodPressure|     SkinThickness|           Insulin|              BMI|\n",
      "+-------+-----------------+------------------+------------------+------------------+-----------------+\n",
      "|  count|              768|               768|               768|               768|              768|\n",
      "|   mean|     120.89453125|       69.10546875|20.536458333333332| 79.79947916666667|31.99257813890775|\n",
      "| stddev|31.97261819513622|19.355807170644777|15.952217567727642|115.24400235133803|7.884160293010772|\n",
      "|    min|              0.0|               0.0|               0.0|               0.0|              0.0|\n",
      "|    max|            199.0|             122.0|              99.0|             846.0|             67.1|\n",
      "+-------+-----------------+------------------+------------------+------------------+-----------------+\n",
      "\n"
     ]
    }
   ],
   "source": [
    "raw_data.describe('Glucose', 'BloodPressure', 'SkinThickness', 'Insulin', 'BMI').show()"
   ]
  },
  {
   "cell_type": "code",
   "execution_count": 37,
   "metadata": {},
   "outputs": [
    {
     "name": "stdout",
     "output_type": "stream",
     "text": [
      "+-------+-----------------+------------------+------------------+------------------+-----------------+\n",
      "|summary|          Glucose|     BloodPressure|     SkinThickness|           Insulin|              BMI|\n",
      "+-------+-----------------+------------------+------------------+------------------+-----------------+\n",
      "|  count|              768|               768|               768|               768|              768|\n",
      "|   mean|     120.89453125|       69.10546875|20.536458333333332| 79.79947916666667|31.99257813890775|\n",
      "| stddev|31.97261819513622|19.355807170644777|15.952217567727642|115.24400235133803|7.884160293010772|\n",
      "|    min|              0.0|               0.0|               0.0|               0.0|              0.0|\n",
      "|    25%|             99.0|              62.0|               0.0|               0.0|             27.3|\n",
      "|    50%|            117.0|              72.0|              23.0|              29.0|             32.0|\n",
      "|    75%|            140.0|              80.0|              32.0|             127.0|             36.6|\n",
      "|    max|            199.0|             122.0|              99.0|             846.0|             67.1|\n",
      "+-------+-----------------+------------------+------------------+------------------+-----------------+\n",
      "\n"
     ]
    }
   ],
   "source": [
    "raw_data.select('Glucose', 'BloodPressure', 'SkinThickness', 'Insulin', 'BMI').summary().show()"
   ]
  },
  {
   "cell_type": "code",
   "execution_count": 38,
   "metadata": {},
   "outputs": [
    {
     "data": {
      "text/plain": [
       "0"
      ]
     },
     "execution_count": 38,
     "metadata": {},
     "output_type": "execute_result"
    }
   ],
   "source": [
    "raw_data.rdd.map(\n",
    "    lambda row: 1 if sum([c==None for c in row]) > 0 else 0\n",
    ").reduce(\n",
    "    lambda x, y: x+y\n",
    ")"
   ]
  },
  {
   "cell_type": "code",
   "execution_count": 39,
   "metadata": {},
   "outputs": [
    {
     "data": {
      "text/plain": [
       "376"
      ]
     },
     "execution_count": 39,
     "metadata": {},
     "output_type": "execute_result"
    }
   ],
   "source": [
    "prep_cols = ['Glucose', 'BloodPressure', 'SkinThickness', 'Insulin', 'BMI']\n",
    "\n",
    "raw_data.rdd.map(\n",
    "    lambda row: 1 if sum([row[c]==0 for c in prep_cols]) > 0 else 0\n",
    ").reduce(\n",
    "    lambda x, y : x + y\n",
    ")"
   ]
  },
  {
   "cell_type": "code",
   "execution_count": 40,
   "metadata": {},
   "outputs": [
    {
     "name": "stdout",
     "output_type": "stream",
     "text": [
      "+-----------+-------+-------------+-------------+-------+----+------------------------+----+-------+\n",
      "|Pregnancies|Glucose|BloodPressure|SkinThickness|Insulin| BMI|DiabetesPedigreeFunction| Age|Outcome|\n",
      "+-----------+-------+-------------+-------------+-------+----+------------------------+----+-------+\n",
      "|        6.0|  148.0|         72.0|         35.0|   null|33.6|                   0.627|50.0|    1.0|\n",
      "|        1.0|   85.0|         66.0|         29.0|   null|26.6|                   0.351|31.0|    0.0|\n",
      "|        8.0|  183.0|         64.0|         null|   null|23.3|                   0.672|32.0|    1.0|\n",
      "|        1.0|   89.0|         66.0|         23.0|   94.0|28.1|                   0.167|21.0|    0.0|\n",
      "|        0.0|  137.0|         40.0|         35.0|  168.0|43.1|                   2.288|33.0|    1.0|\n",
      "+-----------+-------+-------------+-------------+-------+----+------------------------+----+-------+\n",
      "only showing top 5 rows\n",
      "\n"
     ]
    }
   ],
   "source": [
    "for c in prep_cols:\n",
    "    raw_data = raw_data.withColumn(c, fn.when(fn.col(c)==0, None).otherwise(fn.col(c)))\n",
    "\n",
    "raw_data.show(5)"
   ]
  },
  {
   "cell_type": "code",
   "execution_count": 41,
   "metadata": {},
   "outputs": [
    {
     "name": "stdout",
     "output_type": "stream",
     "text": [
      "+------------------+---------------------+---------------------+------------------+------------------+\n",
      "|   Glucose_missing|BloodPressure_missing|SkinThickness_missing|   Insulin_missing|       BMI_missing|\n",
      "+------------------+---------------------+---------------------+------------------+------------------+\n",
      "|0.9934895833333334|   0.9544270833333334|   0.7044270833333334|0.5130208333333334|0.9856770833333334|\n",
      "+------------------+---------------------+---------------------+------------------+------------------+\n",
      "\n"
     ]
    }
   ],
   "source": [
    "raw_data.select(*[\n",
    "    (fn.count(c) / fn.count('*')).alias(c + '_missing') for c in prep_cols\n",
    "]).show()"
   ]
  },
  {
   "cell_type": "code",
   "execution_count": 42,
   "metadata": {},
   "outputs": [
    {
     "name": "stdout",
     "output_type": "stream",
     "text": [
      "+-----------+-------+-------------+-------------+---------+----+------------------------+----+-------+\n",
      "|Pregnancies|Glucose|BloodPressure|SkinThickness|  Insulin| BMI|DiabetesPedigreeFunction| Age|Outcome|\n",
      "+-----------+-------+-------------+-------------+---------+----+------------------------+----+-------+\n",
      "|        6.0|  148.0|         72.0|         35.0|155.54822|33.6|                   0.627|50.0|    1.0|\n",
      "|        1.0|   85.0|         66.0|         29.0|155.54822|26.6|                   0.351|31.0|    0.0|\n",
      "|        8.0|  183.0|         64.0|     29.15342|155.54822|23.3|                   0.672|32.0|    1.0|\n",
      "|        1.0|   89.0|         66.0|         23.0|     94.0|28.1|                   0.167|21.0|    0.0|\n",
      "|        0.0|  137.0|         40.0|         35.0|    168.0|43.1|                   2.288|33.0|    1.0|\n",
      "+-----------+-------+-------------+-------------+---------+----+------------------------+----+-------+\n",
      "only showing top 5 rows\n",
      "\n"
     ]
    }
   ],
   "source": [
    "imputer = Imputer(inputCols=prep_cols, outputCols=prep_cols)\n",
    "model = imputer.fit(raw_data)\n",
    "raw_data = model.transform(raw_data)\n",
    "raw_data.show(5)"
   ]
  },
  {
   "cell_type": "code",
   "execution_count": 43,
   "metadata": {},
   "outputs": [],
   "source": [
    "cols = raw_data.columns\n",
    "cols.remove('Outcome')"
   ]
  },
  {
   "cell_type": "code",
   "execution_count": 44,
   "metadata": {},
   "outputs": [
    {
     "name": "stdout",
     "output_type": "stream",
     "text": [
      "+-----------------------------------------------------------------------------------------------+\n",
      "|features                                                                                       |\n",
      "+-----------------------------------------------------------------------------------------------+\n",
      "|[6.0,148.0,72.0,35.0,155.5482177734375,33.599998474121094,0.6269999742507935,50.0]             |\n",
      "|[1.0,85.0,66.0,29.0,155.5482177734375,26.600000381469727,0.35100001096725464,31.0]             |\n",
      "|[8.0,183.0,64.0,29.153419494628906,155.5482177734375,23.299999237060547,0.671999990940094,32.0]|\n",
      "|[1.0,89.0,66.0,23.0,94.0,28.100000381469727,0.16699999570846558,21.0]                          |\n",
      "|[0.0,137.0,40.0,35.0,168.0,43.099998474121094,2.2880001068115234,33.0]                         |\n",
      "+-----------------------------------------------------------------------------------------------+\n",
      "only showing top 5 rows\n",
      "\n"
     ]
    }
   ],
   "source": [
    "assembler = VectorAssembler(inputCols=cols, outputCol='features')\n",
    "raw_data = assembler.transform(raw_data)\n",
    "raw_data.select('features').show(5, truncate=False)"
   ]
  },
  {
   "cell_type": "code",
   "execution_count": 46,
   "metadata": {},
   "outputs": [
    {
     "name": "stdout",
     "output_type": "stream",
     "text": [
      "+--------------------+--------------------+\n",
      "|            features|     scaled_features|\n",
      "+--------------------+--------------------+\n",
      "|[6.0,148.0,72.0,3...|[1.78063837321943...|\n",
      "|[1.0,85.0,66.0,29...|[0.29677306220323...|\n",
      "|[8.0,183.0,64.0,2...|[2.37418449762590...|\n",
      "|[1.0,89.0,66.0,23...|[0.29677306220323...|\n",
      "|[0.0,137.0,40.0,3...|[0.0,4.5012560836...|\n",
      "+--------------------+--------------------+\n",
      "only showing top 5 rows\n",
      "\n"
     ]
    }
   ],
   "source": [
    "standardscaler = StandardScaler(\n",
    "    inputCol='features', outputCol='scaled_features', withStd=True, withMean=False\n",
    ")\n",
    "\n",
    "raw_data = standardscaler.fit(raw_data).transform(raw_data)\n",
    "raw_data.select('features', 'scaled_features').show(5)"
   ]
  },
  {
   "cell_type": "code",
   "execution_count": 47,
   "metadata": {},
   "outputs": [
    {
     "name": "stdout",
     "output_type": "stream",
     "text": [
      "613\n",
      "155\n"
     ]
    }
   ],
   "source": [
    "train, test = raw_data.randomSplit([0.8, 0.2], seed=37)\n",
    "\n",
    "print(train.count())\n",
    "print(test.count())"
   ]
  },
  {
   "cell_type": "code",
   "execution_count": 49,
   "metadata": {},
   "outputs": [
    {
     "name": "stdout",
     "output_type": "stream",
     "text": [
      "22/10/20 15:39:54 WARN InstanceBuilder$NativeBLAS: Failed to load implementation from:dev.ludovic.netlib.blas.JNIBLAS\n",
      "22/10/20 15:39:54 WARN InstanceBuilder$NativeBLAS: Failed to load implementation from:dev.ludovic.netlib.blas.ForeignLinkerBLAS\n",
      "+-------+----------+\n",
      "|Outcome|prediction|\n",
      "+-------+----------+\n",
      "|    0.0|       0.0|\n",
      "|    0.0|       0.0|\n",
      "|    0.0|       0.0|\n",
      "|    0.0|       0.0|\n",
      "|    0.0|       0.0|\n",
      "|    0.0|       0.0|\n",
      "|    0.0|       0.0|\n",
      "|    0.0|       0.0|\n",
      "|    0.0|       0.0|\n",
      "|    0.0|       0.0|\n",
      "+-------+----------+\n",
      "only showing top 10 rows\n",
      "\n"
     ]
    }
   ],
   "source": [
    "lr = LogisticRegression(\n",
    "    labelCol='Outcome',\n",
    "    featuresCol='scaled_features',\n",
    "    maxIter=10\n",
    ")\n",
    "\n",
    "model = lr.fit(train)\n",
    "predict_train = model.transform(train)\n",
    "predict_test = model.transform(test)\n",
    "predict_test.select('Outcome', 'prediction').show(10)"
   ]
  },
  {
   "cell_type": "code",
   "execution_count": 50,
   "metadata": {},
   "outputs": [
    {
     "name": "stdout",
     "output_type": "stream",
     "text": [
      "+-------+----------------------------------------+-----------------------------------------+----------+\n",
      "|Outcome|rawPrediction                           |probability                              |prediction|\n",
      "+-------+----------------------------------------+-----------------------------------------+----------+\n",
      "|0.0    |[2.6606675575489014,-2.6606675575489014]|[0.9346654434423237,0.06533455655767628] |0.0       |\n",
      "|0.0    |[1.9517259190911238,-1.9517259190911238]|[0.8756347138025965,0.1243652861974035]  |0.0       |\n",
      "|0.0    |[2.576622282928418,-2.576622282928418]  |[0.9293417905959838,0.07065820940401624] |0.0       |\n",
      "|0.0    |[1.2043488247289247,-1.2043488247289247]|[0.7692975116571915,0.2307024883428085]  |0.0       |\n",
      "|0.0    |[2.997123226896999,-2.997123226896999]  |[0.9524439944863868,0.047556005513613164]|0.0       |\n",
      "|0.0    |[1.1803281424381549,-1.1803281424381549]|[0.7650067995177674,0.2349932004822326]  |0.0       |\n",
      "|0.0    |[3.396095324364234,-3.396095324364234]  |[0.9675822814436412,0.03241771855635878] |0.0       |\n",
      "|0.0    |[1.2477048275696783,-1.2477048275696783]|[0.7769023029882474,0.22309769701175264] |0.0       |\n",
      "|0.0    |[2.6969697703459357,-2.6969697703459357]|[0.9368476000535905,0.06315239994640953] |0.0       |\n",
      "|0.0    |[0.6667858132557605,-0.6667858132557605]|[0.6607830758426765,0.3392169241573235]  |0.0       |\n",
      "+-------+----------------------------------------+-----------------------------------------+----------+\n",
      "only showing top 10 rows\n",
      "\n",
      "22/10/20 15:55:46 WARN HeartbeatReceiver: Removing executor driver with no recent heartbeats: 126966 ms exceeds timeout 120000 ms\n",
      "22/10/20 15:55:46 WARN SparkContext: Killing executors is not supported by current scheduler.\n"
     ]
    }
   ],
   "source": [
    "predict_test.select('Outcome', 'rawPrediction', 'probability', 'prediction').show(10, truncate=False)"
   ]
  },
  {
   "cell_type": "code",
   "execution_count": null,
   "metadata": {},
   "outputs": [],
   "source": []
  }
 ],
 "metadata": {
  "kernelspec": {
   "display_name": "Python 3 (ipykernel)",
   "language": "python",
   "name": "python3"
  },
  "language_info": {
   "codemirror_mode": {
    "name": "ipython",
    "version": 3
   },
   "file_extension": ".py",
   "mimetype": "text/x-python",
   "name": "python",
   "nbconvert_exporter": "python",
   "pygments_lexer": "ipython3",
   "version": "3.8.13"
  },
  "vscode": {
   "interpreter": {
    "hash": "f1c0308d9e60edfff9ca7226db277a962a4f93118ca495134b255cd0e6a3820b"
   }
  }
 },
 "nbformat": 4,
 "nbformat_minor": 4
}
