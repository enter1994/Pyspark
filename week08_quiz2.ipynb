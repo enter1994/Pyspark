{
 "cells": [
  {
   "cell_type": "markdown",
   "metadata": {},
   "source": [
    "## Quiz 2\n",
    "\n",
    "income_data.csv 파일을 이용하여  \n",
    "Feature 특성에 맞게 데이터전처리하여  \n",
    "Income 을 예측하는 LinearSVC 를 학습하여 정확도를 출력하시오.  \n"
   ]
  },
  {
   "cell_type": "code",
   "execution_count": 1,
   "metadata": {},
   "outputs": [
    {
     "name": "stdout",
     "output_type": "stream",
     "text": [
      "22/10/20 08:14:27 WARN Utils: Your hostname, cherry resolves to a loopback address: 127.0.1.1; using 192.168.0.7 instead (on interface enp6s0)\n",
      "22/10/20 08:14:27 WARN Utils: Set SPARK_LOCAL_IP if you need to bind to another address\n"
     ]
    },
    {
     "name": "stderr",
     "output_type": "stream",
     "text": [
      "Setting default log level to \"WARN\".\n",
      "To adjust logging level use sc.setLogLevel(newLevel). For SparkR, use setLogLevel(newLevel).\n"
     ]
    },
    {
     "name": "stdout",
     "output_type": "stream",
     "text": [
      "22/10/20 08:14:27 WARN NativeCodeLoader: Unable to load native-hadoop library for your platform... using builtin-java classes where applicable\n",
      "22/10/20 08:14:28 WARN Utils: Service 'SparkUI' could not bind on port 4040. Attempting port 4041.\n"
     ]
    }
   ],
   "source": [
    "from pyspark.sql import SparkSession\n",
    "from pyspark.sql.types import *\n",
    "\n",
    "spark = SparkSession.builder.appName('my app').master('local').getOrCreate()\n",
    "sc = spark.sparkContext"
   ]
  },
  {
   "cell_type": "code",
   "execution_count": 39,
   "metadata": {},
   "outputs": [],
   "source": [
    "from pyspark.sql.types import *\n",
    "import pyspark.sql.functions as fn\n",
    "from pyspark.ml.feature import Imputer\n",
    "from pyspark.ml.feature import VectorAssembler\n",
    "from pyspark.ml.feature import StandardScaler\n",
    "from pyspark.ml.feature import StringIndexer, OneHotEncoder\n",
    "\n",
    "from pyspark.ml.classification import LinearSVC"
   ]
  },
  {
   "cell_type": "code",
   "execution_count": null,
   "metadata": {},
   "outputs": [],
   "source": [
    "Columns  \n",
    "  \n",
    "age: Age of the person  \n",
    "workclass: Categorical variable indicating the type of work i.e. Govt or Private etc,  \n",
    "fnlwgt: final weight  \n",
    "education: Education  \n",
    "educational-num: Education as Integer  \n",
    "marital-status: Marital Status  \n",
    "occupation: Occupation  \n",
    "relationship: Relationship Status  \n",
    "race: Race of the Person  \n",
    "gender: Gender of the person  \n",
    "capital-gain: capital Gain  \n",
    "capital-loss: Capital loss  "
   ]
  },
  {
   "cell_type": "code",
   "execution_count": 6,
   "metadata": {},
   "outputs": [
    {
     "name": "stdout",
     "output_type": "stream",
     "text": [
      "+---+-----------------+------+----------+---------------+-------------------+------------------+--------------+------+------+------------+------------+--------------+--------------+------+\n",
      "|age|        workclass|fnlwgt| education|educational-num|     marital-status|        occupation|  relationship|  race|gender|capital-gain|capital-loss|hours-per-week|native-country|income|\n",
      "+---+-----------------+------+----------+---------------+-------------------+------------------+--------------+------+------+------------+------------+--------------+--------------+------+\n",
      "| 39|        State-gov| 77516| Bachelors|             13|      Never-married|      Adm-clerical| Not-in-family| White|  Male|        2174|           0|            40| United-States| <=50K|\n",
      "| 50| Self-emp-not-inc| 83311| Bachelors|             13| Married-civ-spouse|   Exec-managerial|       Husband| White|  Male|           0|           0|            13| United-States| <=50K|\n",
      "| 38|          Private|215646|   HS-grad|              9|           Divorced| Handlers-cleaners| Not-in-family| White|  Male|           0|           0|            40| United-States| <=50K|\n",
      "+---+-----------------+------+----------+---------------+-------------------+------------------+--------------+------+------+------------+------------+--------------+--------------+------+\n",
      "only showing top 3 rows\n",
      "\n"
     ]
    }
   ],
   "source": [
    "data.show(3)"
   ]
  },
  {
   "cell_type": "code",
   "execution_count": 49,
   "metadata": {},
   "outputs": [
    {
     "name": "stdout",
     "output_type": "stream",
     "text": [
      "root\n",
      " |-- age: float (nullable = true)\n",
      " |-- workclass: string (nullable = true)\n",
      " |-- fnlwgt: float (nullable = true)\n",
      " |-- education: string (nullable = true)\n",
      " |-- educational-num: float (nullable = true)\n",
      " |-- marital-status: string (nullable = true)\n",
      " |-- occupation: string (nullable = true)\n",
      " |-- relationship: string (nullable = true)\n",
      " |-- race: string (nullable = true)\n",
      " |-- gender: string (nullable = true)\n",
      " |-- capital-gain: float (nullable = true)\n",
      " |-- capital-loss: float (nullable = true)\n",
      " |-- hours-per-week: float (nullable = true)\n",
      " |-- native-country: string (nullable = true)\n",
      " |-- income: string (nullable = true)\n",
      "\n"
     ]
    }
   ],
   "source": [
    "schema = StructType([\n",
    "    StructField('age', FloatType(), True),\n",
    "    StructField('workclass', StringType(), True),\n",
    "    StructField('fnlwgt', FloatType(), True),\n",
    "    StructField('education', StringType(), True),\n",
    "    StructField('educational-num', FloatType(), True),\n",
    "    StructField('marital-status', StringType(), True),\n",
    "    StructField('occupation', StringType(), True),\n",
    "    StructField('relationship', StringType(), True),\n",
    "    StructField('race', StringType(), True),\n",
    "    StructField('gender', StringType(), True),\n",
    "    StructField('capital-gain', FloatType(), True),\n",
    "    StructField('capital-loss', FloatType(), True),\n",
    "    StructField('hours-per-week', FloatType(), True),\n",
    "    StructField('native-country', StringType(), True),\n",
    "    StructField('income', StringType(), True),\n",
    "])\n",
    "\n",
    "data = spark.read.format('csv').option('header', 'true').schema(schema).load('./input_week08/income_data.csv')\n",
    "data.printSchema()"
   ]
  },
  {
   "cell_type": "code",
   "execution_count": 51,
   "metadata": {},
   "outputs": [],
   "source": [
    "data_col = data.columns"
   ]
  },
  {
   "cell_type": "code",
   "execution_count": 9,
   "metadata": {},
   "outputs": [
    {
     "name": "stderr",
     "output_type": "stream",
     "text": [
      "[Stage 3:>                                                          (0 + 1) / 1]\r"
     ]
    },
    {
     "name": "stdout",
     "output_type": "stream",
     "text": [
      "+-------+------------------+------------+------------------+-------------+-----------------+--------------+-----------------+------------+-------------------+-------+------------------+----------------+------------------+--------------+------+\n",
      "|summary|               age|   workclass|            fnlwgt|    education|  educational-num|marital-status|       occupation|relationship|               race| gender|      capital-gain|    capital-loss|    hours-per-week|native-country|income|\n",
      "+-------+------------------+------------+------------------+-------------+-----------------+--------------+-----------------+------------+-------------------+-------+------------------+----------------+------------------+--------------+------+\n",
      "|  count|             32561|       32561|             32561|        32561|            32561|         32561|            32561|       32561|              32561|  32561|             32561|           32561|             32561|         32561| 32561|\n",
      "|   mean| 38.58164675532078|        null|189778.36651208502|         null| 10.0806793403151|          null|             null|        null|               null|   null|1077.6488437087312| 87.303829734959|40.437455852092995|          null|  null|\n",
      "| stddev|13.640432553581356|        null|105549.97769702227|         null|2.572720332067397|          null|             null|        null|               null|   null| 7385.292084840354|402.960218649002|12.347428681731838|          null|  null|\n",
      "|    min|              17.0|           ?|           12285.0|         10th|              1.0|      Divorced|                ?|     Husband| Amer-Indian-Eskimo| Female|               0.0|             0.0|               1.0|             ?| <=50K|\n",
      "|    25%|              28.0|        null|          117802.0|         null|              9.0|          null|             null|        null|               null|   null|               0.0|             0.0|              40.0|          null|  null|\n",
      "|    50%|              37.0|        null|          178353.0|         null|             10.0|          null|             null|        null|               null|   null|               0.0|             0.0|              40.0|          null|  null|\n",
      "|    75%|              48.0|        null|          236994.0|         null|             12.0|          null|             null|        null|               null|   null|               0.0|             0.0|              45.0|          null|  null|\n",
      "|    max|              90.0| Without-pay|         1484705.0| Some-college|             16.0|       Widowed| Transport-moving|        Wife|              White|   Male|           99999.0|          4356.0|              99.0|    Yugoslavia|  >50K|\n",
      "+-------+------------------+------------+------------------+-------------+-----------------+--------------+-----------------+------------+-------------------+-------+------------------+----------------+------------------+--------------+------+\n",
      "\n"
     ]
    },
    {
     "name": "stderr",
     "output_type": "stream",
     "text": [
      "                                                                                \r"
     ]
    }
   ],
   "source": [
    "data.summary().show()"
   ]
  },
  {
   "cell_type": "code",
   "execution_count": 52,
   "metadata": {},
   "outputs": [
    {
     "data": {
      "text/plain": [
       "0"
      ]
     },
     "execution_count": 52,
     "metadata": {},
     "output_type": "execute_result"
    }
   ],
   "source": [
    "data.rdd.map(\n",
    "    lambda row: 1 if sum([c=='?' for c in row]) > 0 else 0\n",
    ").reduce(\n",
    "    lambda x, y: x+y\n",
    ")"
   ]
  },
  {
   "cell_type": "code",
   "execution_count": 53,
   "metadata": {},
   "outputs": [
    {
     "name": "stdout",
     "output_type": "stream",
     "text": [
      "+----+-----------------+--------+----------+---------------+-------------------+------------------+--------------+------+-------+------------+------------+--------------+--------------+------+\n",
      "| age|        workclass|  fnlwgt| education|educational-num|     marital-status|        occupation|  relationship|  race| gender|capital-gain|capital-loss|hours-per-week|native-country|income|\n",
      "+----+-----------------+--------+----------+---------------+-------------------+------------------+--------------+------+-------+------------+------------+--------------+--------------+------+\n",
      "|39.0|        State-gov| 77516.0| Bachelors|           13.0|      Never-married|      Adm-clerical| Not-in-family| White|   Male|      2174.0|         0.0|          40.0| United-States| <=50K|\n",
      "|50.0| Self-emp-not-inc| 83311.0| Bachelors|           13.0| Married-civ-spouse|   Exec-managerial|       Husband| White|   Male|         0.0|         0.0|          13.0| United-States| <=50K|\n",
      "|38.0|          Private|215646.0|   HS-grad|            9.0|           Divorced| Handlers-cleaners| Not-in-family| White|   Male|         0.0|         0.0|          40.0| United-States| <=50K|\n",
      "|53.0|          Private|234721.0|      11th|            7.0| Married-civ-spouse| Handlers-cleaners|       Husband| Black|   Male|         0.0|         0.0|          40.0| United-States| <=50K|\n",
      "|28.0|          Private|338409.0| Bachelors|           13.0| Married-civ-spouse|    Prof-specialty|          Wife| Black| Female|         0.0|         0.0|          40.0|          Cuba| <=50K|\n",
      "+----+-----------------+--------+----------+---------------+-------------------+------------------+--------------+------+-------+------------+------------+--------------+--------------+------+\n",
      "only showing top 5 rows\n",
      "\n"
     ]
    }
   ],
   "source": [
    "for c in data_col:\n",
    "    data = data.withColumn(c, fn.when(fn.col(c)=='?', None).otherwise(fn.col(c)))\n",
    "\n",
    "data.show(5)"
   ]
  },
  {
   "cell_type": "code",
   "execution_count": 54,
   "metadata": {},
   "outputs": [
    {
     "name": "stdout",
     "output_type": "stream",
     "text": [
      "+----+-----------------+--------+----------+---------------+-------------------+------------------+--------------+------+-------+------------+------------+--------------+--------------+------+\n",
      "| age|        workclass|  fnlwgt| education|educational-num|     marital-status|        occupation|  relationship|  race| gender|capital-gain|capital-loss|hours-per-week|native-country|income|\n",
      "+----+-----------------+--------+----------+---------------+-------------------+------------------+--------------+------+-------+------------+------------+--------------+--------------+------+\n",
      "|39.0|        State-gov| 77516.0| Bachelors|           13.0|      Never-married|      Adm-clerical| Not-in-family| White|   Male|      2174.0|        null|          40.0| United-States| <=50K|\n",
      "|50.0| Self-emp-not-inc| 83311.0| Bachelors|           13.0| Married-civ-spouse|   Exec-managerial|       Husband| White|   Male|        null|        null|          13.0| United-States| <=50K|\n",
      "|38.0|          Private|215646.0|   HS-grad|            9.0|           Divorced| Handlers-cleaners| Not-in-family| White|   Male|        null|        null|          40.0| United-States| <=50K|\n",
      "|53.0|          Private|234721.0|      11th|            7.0| Married-civ-spouse| Handlers-cleaners|       Husband| Black|   Male|        null|        null|          40.0| United-States| <=50K|\n",
      "|28.0|          Private|338409.0| Bachelors|           13.0| Married-civ-spouse|    Prof-specialty|          Wife| Black| Female|        null|        null|          40.0|          Cuba| <=50K|\n",
      "+----+-----------------+--------+----------+---------------+-------------------+------------------+--------------+------+-------+------------+------------+--------------+--------------+------+\n",
      "only showing top 5 rows\n",
      "\n"
     ]
    }
   ],
   "source": [
    "for c in data_col:\n",
    "    data = data.withColumn(c, fn.when(fn.col(c)==0, None).otherwise(fn.col(c)))\n",
    "\n",
    "data.show(5)"
   ]
  },
  {
   "cell_type": "code",
   "execution_count": 55,
   "metadata": {},
   "outputs": [
    {
     "name": "stdout",
     "output_type": "stream",
     "text": [
      "+-----------+-----------------+--------------+-----------------+-----------------------+----------------------+------------------+--------------------+------------+--------------+--------------------+--------------------+----------------------+----------------------+--------------+\n",
      "|age_missing|workclass_missing|fnlwgt_missing|education_missing|educational-num_missing|marital-status_missing|occupation_missing|relationship_missing|race_missing|gender_missing|capital-gain_missing|capital-loss_missing|hours-per-week_missing|native-country_missing|income_missing|\n",
      "+-----------+-----------------+--------------+-----------------+-----------------------+----------------------+------------------+--------------------+------------+--------------+--------------------+--------------------+----------------------+----------------------+--------------+\n",
      "|        1.0|              1.0|           1.0|              1.0|                    1.0|                   1.0|               1.0|                 1.0|         1.0|           1.0| 0.08328982525106723|  0.0466509013850926|                   1.0|                   1.0|           1.0|\n",
      "+-----------+-----------------+--------------+-----------------+-----------------------+----------------------+------------------+--------------------+------------+--------------+--------------------+--------------------+----------------------+----------------------+--------------+\n",
      "\n"
     ]
    }
   ],
   "source": [
    "data.select(*[\n",
    "    (fn.count(c) / fn.count('*')).alias(c + '_missing') for c in data_col\n",
    "]).show()"
   ]
  },
  {
   "cell_type": "code",
   "execution_count": 56,
   "metadata": {},
   "outputs": [],
   "source": [
    "data_col.remove('capital-gain')\n",
    "data_col.remove('capital-loss')"
   ]
  },
  {
   "cell_type": "code",
   "execution_count": 57,
   "metadata": {},
   "outputs": [
    {
     "name": "stdout",
     "output_type": "stream",
     "text": [
      "+----+-----------------+--------+----------+---------------+-------------------+------------------+--------------+------+------+--------------+--------------+------+\n",
      "| age|        workclass|  fnlwgt| education|educational-num|     marital-status|        occupation|  relationship|  race|gender|hours-per-week|native-country|income|\n",
      "+----+-----------------+--------+----------+---------------+-------------------+------------------+--------------+------+------+--------------+--------------+------+\n",
      "|39.0|        State-gov| 77516.0| Bachelors|           13.0|      Never-married|      Adm-clerical| Not-in-family| White|  Male|          40.0| United-States| <=50K|\n",
      "|50.0| Self-emp-not-inc| 83311.0| Bachelors|           13.0| Married-civ-spouse|   Exec-managerial|       Husband| White|  Male|          13.0| United-States| <=50K|\n",
      "|38.0|          Private|215646.0|   HS-grad|            9.0|           Divorced| Handlers-cleaners| Not-in-family| White|  Male|          40.0| United-States| <=50K|\n",
      "+----+-----------------+--------+----------+---------------+-------------------+------------------+--------------+------+------+--------------+--------------+------+\n",
      "only showing top 3 rows\n",
      "\n"
     ]
    }
   ],
   "source": [
    "data = data.select(data_col)\n",
    "data.show(3)"
   ]
  },
  {
   "cell_type": "code",
   "execution_count": 80,
   "metadata": {},
   "outputs": [],
   "source": [
    "string_col = ['workclass', 'education', 'marital-status', 'occupation', 'relationship', 'race', 'gender', 'native-country', 'income']\n",
    "string_col_idx = ['workclass_idx', 'education_idx', 'marital-status_idx', 'occupation_idx', 'relationship_idx', 'race_idx', 'gender_idx', 'native-country_idx', 'income_idx']"
   ]
  },
  {
   "cell_type": "code",
   "execution_count": 84,
   "metadata": {},
   "outputs": [],
   "source": [
    "indexer = StringIndexer(inputCols=string_col, outputCols=string_col_idx)\n",
    "model = indexer.fit(data)\n",
    "data_convert = model.transform(data)\n",
    "data_convert = data_convert.select(['age', 'workclass_idx', 'fnlwgt', 'education_idx', 'educational-num', 'marital-status_idx', 'occupation_idx', 'relationship_idx', 'race_idx', 'gender_idx', 'hours-per-week', 'native-country_idx', 'income_idx'])"
   ]
  },
  {
   "cell_type": "code",
   "execution_count": 82,
   "metadata": {},
   "outputs": [
    {
     "name": "stdout",
     "output_type": "stream",
     "text": [
      "+----+-------------+--------+-------------+---------------+------------------+--------------+----------------+--------+----------+--------------+------------------+----------+\n",
      "| age|workclass_idx|  fnlwgt|education_idx|educational-num|marital-status_idx|occupation_idx|relationship_idx|race_idx|gender_idx|hours-per-week|native-country_idx|income_idx|\n",
      "+----+-------------+--------+-------------+---------------+------------------+--------------+----------------+--------+----------+--------------+------------------+----------+\n",
      "|39.0|          4.0| 77516.0|          2.0|           13.0|               1.0|           3.0|             1.0|     0.0|       0.0|          40.0|               0.0|       0.0|\n",
      "|50.0|          1.0| 83311.0|          2.0|           13.0|               0.0|           2.0|             0.0|     0.0|       0.0|          13.0|               0.0|       0.0|\n",
      "|38.0|          0.0|215646.0|          0.0|            9.0|               2.0|           9.0|             1.0|     0.0|       0.0|          40.0|               0.0|       0.0|\n",
      "+----+-------------+--------+-------------+---------------+------------------+--------------+----------------+--------+----------+--------------+------------------+----------+\n",
      "only showing top 3 rows\n",
      "\n"
     ]
    }
   ],
   "source": [
    "data_convert.show(3)"
   ]
  },
  {
   "cell_type": "code",
   "execution_count": 89,
   "metadata": {},
   "outputs": [],
   "source": [
    "cols = data_convert.columns\n",
    "cols.remove('income_idx')"
   ]
  },
  {
   "cell_type": "code",
   "execution_count": 90,
   "metadata": {},
   "outputs": [
    {
     "name": "stdout",
     "output_type": "stream",
     "text": [
      "+---------------------------------------------------------+\n",
      "|features                                                 |\n",
      "+---------------------------------------------------------+\n",
      "|[39.0,4.0,77516.0,2.0,13.0,1.0,3.0,1.0,0.0,0.0,40.0,0.0] |\n",
      "|[50.0,1.0,83311.0,2.0,13.0,0.0,2.0,0.0,0.0,0.0,13.0,0.0] |\n",
      "|[38.0,0.0,215646.0,0.0,9.0,2.0,9.0,1.0,0.0,0.0,40.0,0.0] |\n",
      "|[53.0,0.0,234721.0,5.0,7.0,0.0,9.0,0.0,1.0,0.0,40.0,0.0] |\n",
      "|[28.0,0.0,338409.0,2.0,13.0,0.0,0.0,4.0,1.0,1.0,40.0,9.0]|\n",
      "+---------------------------------------------------------+\n",
      "only showing top 5 rows\n",
      "\n"
     ]
    }
   ],
   "source": [
    "assembler = VectorAssembler(inputCols=cols, outputCol='features')\n",
    "data_convert = assembler.transform(data_convert)\n",
    "data_convert.select('features').show(5, truncate=False)"
   ]
  },
  {
   "cell_type": "code",
   "execution_count": 91,
   "metadata": {},
   "outputs": [
    {
     "name": "stdout",
     "output_type": "stream",
     "text": [
      "+--------------------+--------------------+\n",
      "|            features|     scaled_features|\n",
      "+--------------------+--------------------+\n",
      "|[39.0,4.0,77516.0...|[2.85914686699289...|\n",
      "|[50.0,1.0,83311.0...|[3.66557290640114...|\n",
      "|[38.0,0.0,215646....|[2.78583540886487...|\n",
      "|[53.0,0.0,234721....|[3.88550728078521...|\n",
      "|[28.0,0.0,338409....|[2.05272082758464...|\n",
      "+--------------------+--------------------+\n",
      "only showing top 5 rows\n",
      "\n"
     ]
    }
   ],
   "source": [
    "standardscaler = StandardScaler(\n",
    "    inputCol='features', outputCol='scaled_features', withStd=True, withMean=False\n",
    ")\n",
    "\n",
    "data_convert = standardscaler.fit(data_convert).transform(data_convert)\n",
    "data_convert.select('features', 'scaled_features').show(5)"
   ]
  },
  {
   "cell_type": "code",
   "execution_count": 92,
   "metadata": {},
   "outputs": [
    {
     "name": "stdout",
     "output_type": "stream",
     "text": [
      "26123\n",
      "6438\n"
     ]
    }
   ],
   "source": [
    "train, test = data_convert.randomSplit([0.8, 0.2])\n",
    "\n",
    "print(train.count())\n",
    "print(test.count())"
   ]
  },
  {
   "cell_type": "code",
   "execution_count": 94,
   "metadata": {},
   "outputs": [
    {
     "name": "stdout",
     "output_type": "stream",
     "text": [
      "22/10/20 09:27:45 WARN InstanceBuilder$NativeBLAS: Failed to load implementation from:dev.ludovic.netlib.blas.JNIBLAS\n",
      "22/10/20 09:27:45 WARN InstanceBuilder$NativeBLAS: Failed to load implementation from:dev.ludovic.netlib.blas.ForeignLinkerBLAS\n"
     ]
    }
   ],
   "source": [
    "lr = LinearSVC(\n",
    "    labelCol='income_idx',\n",
    "    featuresCol='scaled_features',\n",
    "    maxIter=10\n",
    ")\n",
    "\n",
    "model = lr.fit(train)\n",
    "predict_train = model.transform(train)\n",
    "predict_test = model.transform(test)"
   ]
  },
  {
   "cell_type": "code",
   "execution_count": 95,
   "metadata": {},
   "outputs": [],
   "source": [
    "df_output = predict_test.select('income_idx', 'prediction')\n",
    "df_filter = df_output.filter(df_output['income_idx'] == df_output['prediction'])"
   ]
  },
  {
   "cell_type": "code",
   "execution_count": 96,
   "metadata": {},
   "outputs": [
    {
     "data": {
      "text/plain": [
       "0.8191985088536813"
      ]
     },
     "execution_count": 96,
     "metadata": {},
     "output_type": "execute_result"
    }
   ],
   "source": [
    "df_filter.count() / df_output.count()"
   ]
  },
  {
   "cell_type": "code",
   "execution_count": null,
   "metadata": {},
   "outputs": [],
   "source": []
  }
 ],
 "metadata": {
  "kernelspec": {
   "display_name": "Python 3 (ipykernel)",
   "language": "python",
   "name": "python3"
  },
  "language_info": {
   "codemirror_mode": {
    "name": "ipython",
    "version": 3
   },
   "file_extension": ".py",
   "mimetype": "text/x-python",
   "name": "python",
   "nbconvert_exporter": "python",
   "pygments_lexer": "ipython3",
   "version": "3.8.13"
  },
  "vscode": {
   "interpreter": {
    "hash": "86047c975bf190ecdfd8370e61a6077883377d5b85ad5112a925b3a9377e045d"
   }
  }
 },
 "nbformat": 4,
 "nbformat_minor": 4
}
