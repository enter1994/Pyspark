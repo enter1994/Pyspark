{
 "cells": [
  {
   "cell_type": "code",
   "execution_count": 1,
   "metadata": {},
   "outputs": [
    {
     "name": "stdout",
     "output_type": "stream",
     "text": [
      "22/09/22 09:48:32 WARN Utils: Your hostname, cherry resolves to a loopback address: 127.0.1.1; using 192.168.0.7 instead (on interface enp6s0)\n",
      "22/09/22 09:48:32 WARN Utils: Set SPARK_LOCAL_IP if you need to bind to another address\n"
     ]
    },
    {
     "name": "stderr",
     "output_type": "stream",
     "text": [
      "Setting default log level to \"WARN\".\n",
      "To adjust logging level use sc.setLogLevel(newLevel). For SparkR, use setLogLevel(newLevel).\n"
     ]
    },
    {
     "name": "stdout",
     "output_type": "stream",
     "text": [
      "22/09/22 09:48:33 WARN NativeCodeLoader: Unable to load native-hadoop library for your platform... using builtin-java classes where applicable\n",
      "22/09/22 09:48:34 WARN Utils: Service 'SparkUI' could not bind on port 4040. Attempting port 4041.\n"
     ]
    }
   ],
   "source": [
    "import pyspark\n",
    "from pyspark import SparkContext\n",
    "\n",
    "sc = SparkContext()"
   ]
  },
  {
   "cell_type": "code",
   "execution_count": 2,
   "metadata": {},
   "outputs": [],
   "source": [
    "point1 = sc.textFile('./input_week04/points1.csv').map(lambda x: x.split(',')).map(lambda x: (int(x[0]), (float(x[1]), float(x[2]))))\n",
    "point2 = sc.textFile('./input_week04/points2.csv').map(lambda x: x.split(',')).map(lambda x: (float(x[0]), float(x[1])))\n"
   ]
  },
  {
   "cell_type": "code",
   "execution_count": 3,
   "metadata": {},
   "outputs": [
    {
     "name": "stderr",
     "output_type": "stream",
     "text": [
      "                                                                                \r"
     ]
    }
   ],
   "source": [
    "point1 = point1.collect()\n",
    "# point2 = point2.collect()"
   ]
  },
  {
   "cell_type": "code",
   "execution_count": 4,
   "metadata": {},
   "outputs": [],
   "source": [
    "point1_bc = sc.broadcast(point1)"
   ]
  },
  {
   "cell_type": "code",
   "execution_count": 5,
   "metadata": {},
   "outputs": [
    {
     "data": {
      "text/plain": [
       "[(0, (0.3332310446739237, 0.8816789623129827)),\n",
       " (1, (0.7180093769486705, 0.9637912346703899)),\n",
       " (2, (0.8116248725383151, 0.13696859152848095)),\n",
       " (3, (0.32558100044331795, 0.503730643753619)),\n",
       " (4, (0.8771663414457561, 0.7076376276477696)),\n",
       " (5, (0.19388260220851417, 0.5493842742220786)),\n",
       " (6, (0.27167090531975013, 0.43894203635672935)),\n",
       " (7, (0.07368066232777415, 0.47765482567815376)),\n",
       " (8, (0.9228510563432439, 0.05714995929075273)),\n",
       " (9, (0.9140180890494094, 0.13546962101450588))]"
      ]
     },
     "execution_count": 5,
     "metadata": {},
     "output_type": "execute_result"
    }
   ],
   "source": [
    "point1"
   ]
  },
  {
   "cell_type": "code",
   "execution_count": 6,
   "metadata": {},
   "outputs": [],
   "source": [
    "import math"
   ]
  },
  {
   "cell_type": "code",
   "execution_count": 7,
   "metadata": {},
   "outputs": [
    {
     "ename": "TypeError",
     "evalue": "'PipelinedRDD' object is not iterable",
     "output_type": "error",
     "traceback": [
      "\u001b[0;31m---------------------------------------------------------------------------\u001b[0m",
      "\u001b[0;31mTypeError\u001b[0m                                 Traceback (most recent call last)",
      "\u001b[1;32m/home/enter1994/notebook/Spark/week04_quiz2.ipynb 셀 7\u001b[0m in \u001b[0;36m<cell line: 3>\u001b[0;34m()\u001b[0m\n\u001b[1;32m      <a href='vscode-notebook-cell://ssh-remote%2Bcherry/home/enter1994/notebook/Spark/week04_quiz2.ipynb#W6sdnNjb2RlLXJlbW90ZQ%3D%3D?line=2'>3</a>\u001b[0m \u001b[39mfor\u001b[39;00m i \u001b[39min\u001b[39;00m \u001b[39mrange\u001b[39m(\u001b[39mlen\u001b[39m(point1)):\n\u001b[1;32m      <a href='vscode-notebook-cell://ssh-remote%2Bcherry/home/enter1994/notebook/Spark/week04_quiz2.ipynb#W6sdnNjb2RlLXJlbW90ZQ%3D%3D?line=3'>4</a>\u001b[0m     num1 \u001b[39m=\u001b[39m point1[i][\u001b[39m1\u001b[39m]\n\u001b[0;32m----> <a href='vscode-notebook-cell://ssh-remote%2Bcherry/home/enter1994/notebook/Spark/week04_quiz2.ipynb#W6sdnNjb2RlLXJlbW90ZQ%3D%3D?line=5'>6</a>\u001b[0m     \u001b[39mfor\u001b[39;00m num2 \u001b[39min\u001b[39;00m point2:\n\u001b[1;32m      <a href='vscode-notebook-cell://ssh-remote%2Bcherry/home/enter1994/notebook/Spark/week04_quiz2.ipynb#W6sdnNjb2RlLXJlbW90ZQ%3D%3D?line=6'>7</a>\u001b[0m         dist \u001b[39m=\u001b[39m math\u001b[39m.\u001b[39mdist(num1, num2)\n\u001b[1;32m      <a href='vscode-notebook-cell://ssh-remote%2Bcherry/home/enter1994/notebook/Spark/week04_quiz2.ipynb#W6sdnNjb2RlLXJlbW90ZQ%3D%3D?line=7'>8</a>\u001b[0m         result\u001b[39m.\u001b[39mappend((point1[i][\u001b[39m0\u001b[39m], dist))\n",
      "\u001b[0;31mTypeError\u001b[0m: 'PipelinedRDD' object is not iterable"
     ]
    }
   ],
   "source": [
    "result = []\n",
    "\n",
    "for i in range(len(point1)):\n",
    "    num1 = point1[i][1]\n",
    "    \n",
    "    for num2 in point2:\n",
    "        dist = math.dist(num1, num2)\n",
    "        result.append((point1[i][0], dist))"
   ]
  },
  {
   "cell_type": "code",
   "execution_count": 8,
   "metadata": {},
   "outputs": [],
   "source": [
    "import numpy as np"
   ]
  },
  {
   "cell_type": "code",
   "execution_count": 18,
   "metadata": {},
   "outputs": [],
   "source": [
    "def dist(x):\n",
    "    result = []\n",
    "    for i in range(10):\n",
    "        result.append(math.dist(x, point1_bc.value[i][1]))\n",
    "\n",
    "    idx = np.argmin(result)\n",
    "    return idx"
   ]
  },
  {
   "cell_type": "code",
   "execution_count": 19,
   "metadata": {},
   "outputs": [],
   "source": [
    "s = point2.map(lambda x: (dist(x),1)).reduceByKey(lambda x, y: x+y)"
   ]
  },
  {
   "cell_type": "code",
   "execution_count": 20,
   "metadata": {},
   "outputs": [
    {
     "name": "stderr",
     "output_type": "stream",
     "text": [
      "                                                                                \r"
     ]
    },
    {
     "data": {
      "text/plain": [
       "[(4, 15936),\n",
       " (6, 14729),\n",
       " (2, 15088),\n",
       " (8, 1632),\n",
       " (0, 14736),\n",
       " (1, 8319),\n",
       " (7, 8222),\n",
       " (3, 10818),\n",
       " (5, 6201),\n",
       " (9, 4319)]"
      ]
     },
     "execution_count": 20,
     "metadata": {},
     "output_type": "execute_result"
    }
   ],
   "source": [
    "s.collect()"
   ]
  },
  {
   "cell_type": "code",
   "execution_count": null,
   "metadata": {},
   "outputs": [],
   "source": []
  },
  {
   "cell_type": "code",
   "execution_count": null,
   "metadata": {},
   "outputs": [],
   "source": []
  }
 ],
 "metadata": {
  "kernelspec": {
   "display_name": "Python 3.8.13 ('spark')",
   "language": "python",
   "name": "python3"
  },
  "language_info": {
   "codemirror_mode": {
    "name": "ipython",
    "version": 3
   },
   "file_extension": ".py",
   "mimetype": "text/x-python",
   "name": "python",
   "nbconvert_exporter": "python",
   "pygments_lexer": "ipython3",
   "version": "3.8.13"
  },
  "orig_nbformat": 4,
  "vscode": {
   "interpreter": {
    "hash": "86047c975bf190ecdfd8370e61a6077883377d5b85ad5112a925b3a9377e045d"
   }
  }
 },
 "nbformat": 4,
 "nbformat_minor": 2
}
